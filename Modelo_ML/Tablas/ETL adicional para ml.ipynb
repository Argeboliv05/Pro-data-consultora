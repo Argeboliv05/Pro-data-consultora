{
 "cells": [
  {
   "cell_type": "markdown",
   "metadata": {},
   "source": [
    "## Cargar las librerias necesarias"
   ]
  },
  {
   "cell_type": "code",
   "execution_count": 1,
   "metadata": {},
   "outputs": [],
   "source": [
    "import pandas as pd # type: ignore\n",
    "import unicodedata\n",
    "import re\n",
    "import ast\n",
    "from unidecode import unidecode"
   ]
  },
  {
   "cell_type": "markdown",
   "metadata": {},
   "source": [
    "## Cargar todas las tablas necesarias"
   ]
  },
  {
   "cell_type": "code",
   "execution_count": 2,
   "metadata": {},
   "outputs": [],
   "source": [
    "categorias = pd.read_csv(r'data_normalizada\\categories_normalized.csv')\n",
    "business = pd.read_csv(r'data_normalizada\\business_normal.csv')\n",
    "metadata = pd.read_csv(r'data_normalizada\\metadata_normal.csv')\n",
    "reviews_y = pd.read_csv(r'data_normalizada\\reviews_normal.csv')\n",
    "reviews_gm = pd.read_csv(r'data_normalizada\\reviews_gm_normal.csv')\n",
    "metadata_categories = pd.read_csv(r'data_normalizada\\metadata_categories.csv')\n",
    "business_categories = pd.read_csv(r'data_normalizada\\business_categories.csv')\n",
    "ciudades = pd.read_csv(r'data_normalizada\\ciudades_normal.csv')"
   ]
  },
  {
   "cell_type": "markdown",
   "metadata": {},
   "source": [
    "### Transformacion de `business` y `metadata`. Unificación en `negocios`"
   ]
  },
  {
   "cell_type": "code",
   "execution_count": 3,
   "metadata": {},
   "outputs": [],
   "source": [
    "# Limpiar la columna 'id': quitar espacios y acentos\n",
    "metadata['id'] = metadata['id'].apply(lambda x: unidecode(x).replace(\" \", \"\"))\n",
    "business['id'] = business['id'].apply(lambda x: unidecode(x).replace(\" \", \"\"))"
   ]
  },
  {
   "cell_type": "code",
   "execution_count": 4,
   "metadata": {},
   "outputs": [
    {
     "name": "stdout",
     "output_type": "stream",
     "text": [
      "<class 'pandas.core.frame.DataFrame'>\n",
      "RangeIndex: 21829 entries, 0 to 21828\n",
      "Data columns (total 2 columns):\n",
      " #   Column       Non-Null Count  Dtype \n",
      "---  ------       --------------  ----- \n",
      " 0   id           21829 non-null  object\n",
      " 1   category_id  21829 non-null  object\n",
      "dtypes: object(2)\n",
      "memory usage: 341.2+ KB\n",
      "None\n",
      "                         id category_id\n",
      "0  aagrillxxxxx261688801011          45\n",
      "1  abacoagolfcl268885801199          61\n",
      "2  abacusbusine284586814547          37\n",
      "3  abbaletelavi257688801366          37\n",
      "4  abbesdonutsh270467822499          37\n"
     ]
    }
   ],
   "source": [
    "# Convertir 'category_id' en listas reales si es que aún son strings\n",
    "metadata['category_id'] = metadata['category_id'].apply(lambda x: ast.literal_eval(x) if isinstance(x, str) else x)\n",
    "\n",
    "# Reemplazar listas vacías con [66] antes de explotar\n",
    "metadata['category_id'] = metadata['category_id'].apply(lambda x: [66] if isinstance(x, list) and len(x) == 0 else x)\n",
    "\n",
    "# Expandir la relación de muchos a muchos\n",
    "metadata_intermedia = metadata[['id', 'category_id']].explode('category_id')\n",
    "\n",
    "# Resetear el índice después de expandir\n",
    "metadata_intermedia = metadata_intermedia.reset_index(drop=True)\n",
    "\n",
    "# Verificar la estructura final\n",
    "print(metadata_intermedia.info())\n",
    "print(metadata_intermedia.head())"
   ]
  },
  {
   "cell_type": "code",
   "execution_count": 5,
   "metadata": {},
   "outputs": [
    {
     "name": "stdout",
     "output_type": "stream",
     "text": [
      "<class 'pandas.core.frame.DataFrame'>\n",
      "RangeIndex: 14693 entries, 0 to 14692\n",
      "Data columns (total 2 columns):\n",
      " #   Column       Non-Null Count  Dtype \n",
      "---  ------       --------------  ----- \n",
      " 0   id           14693 non-null  object\n",
      " 1   category_id  14693 non-null  object\n",
      "dtypes: object(2)\n",
      "memory usage: 229.7+ KB\n",
      "None\n",
      "                         id category_id\n",
      "0  aamorepizzer278603827290          26\n",
      "1  aapizzaxxxxx283578826647          19\n",
      "2  aapizzaxxxxx283578826647          26\n",
      "3  aapizzaxxxxx283578826647          27\n",
      "4  abbottstatio282351821827          37\n"
     ]
    }
   ],
   "source": [
    "# Convertir 'category_id' en listas reales si es que aún son strings\n",
    "business['category_id'] = business['category_id'].apply(lambda x: ast.literal_eval(x) if isinstance(x, str) else x)\n",
    "\n",
    "# Reemplazar listas vacías con [66] antes de explotar\n",
    "business['category_id'] = business['category_id'].apply(lambda x: [66] if isinstance(x, list) and len(x) == 0 else x)\n",
    "\n",
    "# Expandir la relación de muchos a muchos\n",
    "business_intermedia = business[['id', 'category_id']].explode('category_id')\n",
    "\n",
    "# Resetear el índice después de expandir\n",
    "business_intermedia = business_intermedia.reset_index(drop=True)\n",
    "\n",
    "# Verificar la estructura final\n",
    "print(business_intermedia.info())\n",
    "print(business_intermedia.head())\n"
   ]
  },
  {
   "cell_type": "code",
   "execution_count": 6,
   "metadata": {},
   "outputs": [
    {
     "name": "stdout",
     "output_type": "stream",
     "text": [
      "<class 'pandas.core.frame.DataFrame'>\n",
      "Index: 36326 entries, 0 to 36521\n",
      "Data columns (total 2 columns):\n",
      " #   Column       Non-Null Count  Dtype \n",
      "---  ------       --------------  ----- \n",
      " 0   id           36326 non-null  object\n",
      " 1   category_id  36326 non-null  object\n",
      "dtypes: object(2)\n",
      "memory usage: 851.4+ KB\n",
      "None\n",
      "                         id category_id\n",
      "0  aamorepizzer278603827290          26\n",
      "1  aapizzaxxxxx283578826647          19\n",
      "2  aapizzaxxxxx283578826647          26\n",
      "3  aapizzaxxxxx283578826647          27\n",
      "4  abbottstatio282351821827          37\n"
     ]
    }
   ],
   "source": [
    "# Concatenar las tablas\n",
    "negocios_categorias = pd.concat([business_intermedia, metadata_intermedia], ignore_index=True)\n",
    "\n",
    "# Verificar si hay registros duplicados en el par (id, category_id)\n",
    "duplicados = negocios_categorias.duplicated(subset=['id', 'category_id'], keep=False)\n",
    "\n",
    "# Eliminar duplicados dejando solo una aparición de cada par (id, category_id)\n",
    "negocios_categorias = negocios_categorias.drop_duplicates(subset=['id', 'category_id'])\n",
    "\n",
    "# Verificar la estructura final\n",
    "print(negocios_categorias.info())\n",
    "print(negocios_categorias.head())\n",
    "\n",
    "# Guardar la tabla\n",
    "negocios_categorias.to_csv(r'modelado/negocios_categorias.csv', index=False)\n"
   ]
  },
  {
   "cell_type": "code",
   "execution_count": 7,
   "metadata": {},
   "outputs": [],
   "source": [
    "# Seleccionar las columnas binarias\n",
    "columnas_atributos = [\n",
    "    \"delivery\", \"takeout\", \"dinein\", \"outdoor_seating\", \"drivethrough\",\n",
    "    \"good_for_working_on_laptop\", \"solo_dining\", \"wheelchair_friendly\",\n",
    "    \"alcohol_beverage\", \"healthy_food\", \"fast_comfort_food\",\n",
    "    \"braille_menu\", \"all_you_can_eat\", \"coffee\", \"dancing\",\n",
    "    \"catering\", \"counter_service\", \"pay_ahead\", \"seating\",\n",
    "    \"dogs_allowed\", \"bike_parking\", \"parking\",\n",
    "    \"breakfast\", \"lunch\", \"dinner\", \"dessert\",\n",
    "    \"casual\", \"romantic\", \"formal\", \"trendy\",\n",
    "    \"with_reservation\", \"usually_a_wait\", \"quick_visit\",\n",
    "    \"black_owned\", \"women_led\", \"veteran_led\",\n",
    "    \"entertainment\", \"live_entertainment\", \"lgbtq_friendly\",\n",
    "    \"fast_service\", \"fireplace\", \"rooftop_seating\", \"sports\",\n",
    "    \"college_students\", \"family_friendly\", \"groups\",\n",
    "    \"locals\", \"tourists\", \"kids_friendly\",\n",
    "    \"wifi\", \"bar_onsite\", \"cash_only\", \"checks\", \"credit_cards\", \n",
    "    \"debit_cards\", \"nfc_mobile_payments\", \"recycling\", \"none\"\n",
    "]"
   ]
  },
  {
   "cell_type": "code",
   "execution_count": 8,
   "metadata": {},
   "outputs": [],
   "source": [
    "# Crear el DataFrame a partir de la lista\n",
    "df_atributos = pd.DataFrame({\n",
    "    \"atributo_id\": range(1, len(columnas_atributos) + 1),  # Generar IDs secuenciales\n",
    "    \"atributo\": columnas_atributos\n",
    "})\n",
    "\n",
    "# Guardar el DataFrame de atributos normalizado\n",
    "df_atributos.to_csv('modelado/atributos.csv', index=False)"
   ]
  },
  {
   "cell_type": "code",
   "execution_count": 9,
   "metadata": {},
   "outputs": [],
   "source": [
    "metadata.rename(columns={\"wi_fi\": \"wifi\"}, inplace=True)"
   ]
  },
  {
   "cell_type": "code",
   "execution_count": 10,
   "metadata": {},
   "outputs": [
    {
     "name": "stdout",
     "output_type": "stream",
     "text": [
      "                         id                                          atributos\n",
      "0  aagrillxxxxx261688801011        [takeout, fast_comfort_food, kids_friendly]\n",
      "1  abacoagolfcl268885801199                              [wheelchair_friendly]\n",
      "2  abacusbusine284586814547                    [delivery, wheelchair_friendly]\n",
      "3  abbaletelavi257688801366  [delivery, takeout, dinein, outdoor_seating, s...\n",
      "4  abbesdonutsh270467822499  [delivery, takeout, dinein, solo_dining, wheel...\n",
      "                         id                                          atributos\n",
      "0  aamorepizzer278603827290  [delivery, takeout, outdoor_seating, wheelchai...\n",
      "1  aapizzaxxxxx283578826647  [delivery, takeout, outdoor_seating, wheelchai...\n",
      "2  abbottstatio282351821827  [takeout, outdoor_seating, catering, seating, ...\n",
      "3  abbyshealthn280783825080  [takeout, wheelchair_friendly, catering, seati...\n",
      "4  abcfinewinea280147826140  [delivery, seating, bike_parking, parking, cre...\n"
     ]
    }
   ],
   "source": [
    "def generar_lista_atributos(df, columnas_atributos):\n",
    "    \"\"\"\n",
    "    Convierte las columnas binarias en una lista de atributos presentes en cada negocio.\n",
    "    \"\"\"\n",
    "    # Verificar que df no sea None\n",
    "    if df is None:\n",
    "        raise ValueError(\"El DataFrame proporcionado es None. Asegúrate de que está correctamente cargado.\")\n",
    "\n",
    "    # Filtrar solo las columnas que existen en el DataFrame actual\n",
    "    columnas_validas = [col for col in columnas_atributos if col in df.columns]\n",
    "\n",
    "    # Verificar que haya columnas válidas antes de aplicar la transformación\n",
    "    if not columnas_validas:\n",
    "        print(\"No hay columnas binarias en el DataFrame actual.\")\n",
    "        df = df.copy()\n",
    "        df[\"atributos\"] = [[]] * len(df)  # Crear una columna vacía para evitar errores\n",
    "        return df\n",
    "\n",
    "    # Copia el DataFrame para evitar problemas de SettingWithCopyWarning\n",
    "    df = df.copy()\n",
    "\n",
    "    # Reemplazar valores NaN con 0 y asegurarse de que los datos sean enteros\n",
    "    df[columnas_validas] = df[columnas_validas].fillna(0).astype(int)\n",
    "\n",
    "    # Aplicar la transformación a las columnas disponibles\n",
    "    df[\"atributos\"] = df[columnas_validas].apply(\n",
    "        lambda row: [col for col in columnas_validas if row[col] == 1], axis=1\n",
    "    )\n",
    "\n",
    "    return df\n",
    "\n",
    "# Verificar antes de aplicar la transformación\n",
    "if metadata is None or business is None:\n",
    "    raise ValueError(\"metadata o business están vacíos o no están correctamente definidos.\")\n",
    "\n",
    "# Aplicamos la transformación asegurándonos de que cada DataFrame solo usa sus columnas disponibles\n",
    "metadata = generar_lista_atributos(metadata, columnas_atributos)\n",
    "business = generar_lista_atributos(business, columnas_atributos)\n",
    "\n",
    "# Verificar que la transformación se aplicó correctamente\n",
    "print(metadata[['id', 'atributos']].head())\n",
    "print(business[['id', 'atributos']].head())"
   ]
  },
  {
   "cell_type": "code",
   "execution_count": 11,
   "metadata": {},
   "outputs": [
    {
     "name": "stdout",
     "output_type": "stream",
     "text": [
      "<class 'pandas.core.frame.DataFrame'>\n",
      "RangeIndex: 150886 entries, 0 to 150885\n",
      "Data columns (total 2 columns):\n",
      " #   Column       Non-Null Count   Dtype \n",
      "---  ------       --------------   ----- \n",
      " 0   id           150886 non-null  object\n",
      " 1   atributo_id  150886 non-null  Int64 \n",
      "dtypes: Int64(1), object(1)\n",
      "memory usage: 2.4+ MB\n",
      "None\n",
      "                         id  atributo_id\n",
      "0  aagrillxxxxx261688801011            2\n",
      "1  aagrillxxxxx261688801011           11\n",
      "2  aagrillxxxxx261688801011           49\n",
      "3  abacoagolfcl268885801199            8\n",
      "4  abacusbusine284586814547            1\n"
     ]
    }
   ],
   "source": [
    "# Si algún registro en metadata[\"atributos\"] está vacío, asignarle [\"none\"]\n",
    "metadata[\"atributos\"] = metadata[\"atributos\"].apply(lambda x: [\"none\"] if len(x) == 0 else x)\n",
    "\n",
    "# Expandir la lista de atributos en metadata (cada fila tendrá un solo atributo)\n",
    "df_intermedia = metadata[[\"id\", \"atributos\"]].explode(\"atributos\")\n",
    "\n",
    "# Unir con df_atributos para obtener el atributo_id\n",
    "df_intermedia = df_intermedia.merge(df_atributos, left_on=\"atributos\", right_on=\"atributo\", how=\"left\")\n",
    "\n",
    "# Seleccionar solo las columnas necesarias y renombrarlas\n",
    "df_intermedia = df_intermedia[[\"id\", \"atributo_id\"]]#.rename(columns={\"id\": \"metadata_id\"})\n",
    "\n",
    "# Verificar si hubo atributos que no hicieron match\n",
    "if df_intermedia[\"atributo_id\"].isna().sum() > 0:\n",
    "    print(\"Algunos atributos no tienen un ID asignado.\")\n",
    "    print(df_intermedia[df_intermedia[\"atributo_id\"].isna()].head())\n",
    "\n",
    "# Convertir atributo_id a int (si no hay NaN)\n",
    "df_intermedia[\"atributo_id\"] = df_intermedia[\"atributo_id\"].astype(\"Int64\")\n",
    "\n",
    "print(df_intermedia.info())\n",
    "print(df_intermedia.head())"
   ]
  },
  {
   "cell_type": "code",
   "execution_count": 12,
   "metadata": {},
   "outputs": [
    {
     "name": "stdout",
     "output_type": "stream",
     "text": [
      "<class 'pandas.core.frame.DataFrame'>\n",
      "RangeIndex: 100142 entries, 0 to 100141\n",
      "Data columns (total 2 columns):\n",
      " #   Column       Non-Null Count   Dtype \n",
      "---  ------       --------------   ----- \n",
      " 0   id           100142 non-null  object\n",
      " 1   atributo_id  100142 non-null  Int64 \n",
      "dtypes: Int64(1), object(1)\n",
      "memory usage: 1.6+ MB\n",
      "None\n",
      "                         id  atributo_id\n",
      "0  aamorepizzer278603827290            1\n",
      "1  aamorepizzer278603827290            2\n",
      "2  aamorepizzer278603827290            4\n",
      "3  aamorepizzer278603827290            8\n",
      "4  aamorepizzer278603827290            9\n"
     ]
    }
   ],
   "source": [
    "# Si algún registro en business[\"atributos\"] está vacío, asignarle [\"none\"]\n",
    "business[\"atributos\"] = business[\"atributos\"].apply(lambda x: [\"none\"] if len(x) == 0 else x)\n",
    "\n",
    "# Expandir la lista de atributos en business (cada fila tendrá un solo atributo)\n",
    "df_intermedia_y = business[[\"id\", \"atributos\"]].explode(\"atributos\")\n",
    "\n",
    "# Unir con df_atributos para obtener el atributo_id\n",
    "df_intermedia_y = df_intermedia_y.merge(df_atributos, left_on=\"atributos\", right_on=\"atributo\", how=\"left\")\n",
    "\n",
    "# Seleccionar solo las columnas necesarias y renombrarlas\n",
    "df_intermedia_y = df_intermedia_y[[\"id\", \"atributo_id\"]]#.rename(columns={\"id\": \"business_id\"})\n",
    "\n",
    "# Verificar si hubo atributos que no hicieron match\n",
    "if df_intermedia_y[\"atributo_id\"].isna().sum() > 0:\n",
    "    print(\"Algunos atributos no tienen un ID asignado.\")\n",
    "    print(df_intermedia_y[df_intermedia_y[\"atributo_id\"].isna()].head())\n",
    "\n",
    "# Convertir atributo_id a int (si no hay NaN)\n",
    "df_intermedia_y[\"atributo_id\"] = df_intermedia_y[\"atributo_id\"].astype(\"Int64\")\n",
    "\n",
    "print(df_intermedia_y.info())\n",
    "print(df_intermedia_y.head())"
   ]
  },
  {
   "cell_type": "code",
   "execution_count": 13,
   "metadata": {},
   "outputs": [
    {
     "name": "stdout",
     "output_type": "stream",
     "text": [
      "<class 'pandas.core.frame.DataFrame'>\n",
      "Index: 249747 entries, 0 to 251027\n",
      "Data columns (total 2 columns):\n",
      " #   Column       Non-Null Count   Dtype \n",
      "---  ------       --------------   ----- \n",
      " 0   id           249747 non-null  object\n",
      " 1   atributo_id  249747 non-null  Int64 \n",
      "dtypes: Int64(1), object(1)\n",
      "memory usage: 6.0+ MB\n",
      "None\n",
      "                         id  atributo_id\n",
      "0  aamorepizzer278603827290            1\n",
      "1  aamorepizzer278603827290            2\n",
      "2  aamorepizzer278603827290            4\n",
      "3  aamorepizzer278603827290            8\n",
      "4  aamorepizzer278603827290            9\n"
     ]
    }
   ],
   "source": [
    "# Concatenar las tablas\n",
    "negocios_atributos = pd.concat([df_intermedia_y, df_intermedia], ignore_index=True)\n",
    "\n",
    "# Verificar si hay registros duplicados en el par (id, atributo_id)\n",
    "duplicados = negocios_atributos.duplicated(subset=['id', 'atributo_id'], keep=False)\n",
    "\n",
    "# Eliminar duplicados dejando solo una aparición de cada par (id, atributo_id)\n",
    "negocios_atributos = negocios_atributos.drop_duplicates(subset=['id', 'atributo_id'])\n",
    "\n",
    "# Verificar la estructura final\n",
    "print(negocios_atributos.info())\n",
    "print(negocios_atributos.head())\n",
    "\n",
    "# Guardar la tabla\n",
    "negocios_atributos.to_csv(r'modelado/negocios_atributos.csv', index=False)\n"
   ]
  },
  {
   "cell_type": "code",
   "execution_count": 14,
   "metadata": {},
   "outputs": [
    {
     "name": "stdout",
     "output_type": "stream",
     "text": [
      "<class 'pandas.core.frame.DataFrame'>\n",
      "RangeIndex: 15782 entries, 0 to 15781\n",
      "Data columns (total 12 columns):\n",
      " #   Column          Non-Null Count  Dtype  \n",
      "---  ------          --------------  -----  \n",
      " 0   id              15782 non-null  object \n",
      " 1   name            15782 non-null  object \n",
      " 2   street_address  15567 non-null  object \n",
      " 3   postal_code     15782 non-null  int64  \n",
      " 4   latitude        15782 non-null  float64\n",
      " 5   longitude       15782 non-null  float64\n",
      " 6   city_id         15782 non-null  int64  \n",
      " 7   category_id     15782 non-null  object \n",
      " 8   stars           15782 non-null  float64\n",
      " 9   review_count    15782 non-null  int64  \n",
      " 10  is_open         15782 non-null  int64  \n",
      " 11  atributos       15782 non-null  object \n",
      "dtypes: float64(3), int64(4), object(5)\n",
      "memory usage: 1.4+ MB\n",
      "None\n",
      "                         id                       name  \\\n",
      "0  aagrillxxxxx261688801011                  A1A Grill   \n",
      "1  abacoagolfcl268885801199           Abacoa Golf Club   \n",
      "2  abacusbusine284586814547  Abacus Business Solutions   \n",
      "3  abbaletelavi257688801366  Abbalé Telavivian Kitchen   \n",
      "4  abbesdonutsh270467822499          Abbe's Donut Shop   \n",
      "\n",
      "                 street_address  postal_code   latitude  longitude  city_id  \\\n",
      "0               3330 NE 33rd St        33308  26.168882 -80.101176       10   \n",
      "1               105 Barbados Dr        33458  26.888523 -80.119915       62   \n",
      "2   7091 Grand National Dr #104        32819  28.458687 -81.454768        4   \n",
      "3               864 Commerce St        33139  25.768865 -80.136603       45   \n",
      "4           13625 Tamiami Trail        34287  27.046739 -82.249915       34   \n",
      "\n",
      "  category_id  stars  review_count  is_open  \\\n",
      "0        [45]    5.0             7        1   \n",
      "1        [61]    4.4           104        1   \n",
      "2        [37]    1.0             1        1   \n",
      "3        [37]    4.4            73        1   \n",
      "4        [37]    4.7            18        1   \n",
      "\n",
      "                                           atributos  \n",
      "0        [takeout, fast_comfort_food, kids_friendly]  \n",
      "1                              [wheelchair_friendly]  \n",
      "2                    [delivery, wheelchair_friendly]  \n",
      "3  [delivery, takeout, dinein, outdoor_seating, s...  \n",
      "4  [delivery, takeout, dinein, solo_dining, wheel...  \n"
     ]
    }
   ],
   "source": [
    "metadata_limpio = metadata.drop(columns = ['delivery', 'takeout', 'dinein','outdoor_seating', \n",
    "                                           'drivethrough', 'good_for_working_on_laptop', 'solo_dining', \n",
    "                                           'wheelchair_friendly', 'alcohol_beverage', 'healthy_food', \n",
    "                                           'fast_comfort_food', 'braille_menu', 'all_you_can_eat', 'coffee', \n",
    "                                           'dancing', 'catering', 'counter_service', 'pay_ahead','seating', \n",
    "                                           'breakfast', 'lunch', 'dinner', 'dessert', 'casual', 'romantic', \n",
    "                                           'formal', 'trendy', 'with_reservation', 'usually_a_wait', \n",
    "                                           'quick_visit', 'black_owned', 'women_led', 'veteran_led', \n",
    "                                           'entertainment', 'live_entertainment', 'lgbtq_friendly', \n",
    "                                           'fast_service', 'fireplace', 'rooftop_seating', 'sports', \n",
    "                                           'college_students', 'family_friendly', 'groups', 'locals', \n",
    "                                           'tourists', 'kids_friendly', 'wifi','bar_onsite', 'cash_only', \n",
    "                                           'checks', 'credit_cards', 'debit_cards', 'nfc_mobile_payments', \n",
    "                                           'recycling'])\n",
    "\n",
    "print(metadata_limpio.info())\n",
    "print(metadata_limpio.head())"
   ]
  },
  {
   "cell_type": "code",
   "execution_count": 15,
   "metadata": {},
   "outputs": [],
   "source": [
    "# Convertir tipos de datos\n",
    "metadata_limpio['id'] = metadata_limpio['id'].astype(str)\n",
    "metadata_limpio['name'] = metadata_limpio['name'].astype(str)\n",
    "metadata_limpio['street_address'] = metadata_limpio['street_address'].astype(str)\n",
    "\n",
    "metadata_limpio['postal_code'] = metadata_limpio['postal_code'].astype('int64')\n",
    "metadata_limpio['city_id'] = metadata_limpio['city_id'].astype('int64')\n",
    "metadata_limpio['review_count'] = metadata_limpio['review_count'].astype('int64')\n",
    "metadata_limpio['is_open'] = metadata_limpio['is_open'].astype('int64')\n",
    "\n",
    "# Redondear latitud y longitud a 7 decimales\n",
    "metadata_limpio['latitude'] = metadata_limpio['latitude'].round(7)\n",
    "metadata_limpio['longitude'] = metadata_limpio['longitude'].round(7)\n",
    "\n",
    "# Redondear estrellas a 1 decimal\n",
    "metadata_limpio['stars'] = metadata_limpio['stars'].round(1)\n"
   ]
  },
  {
   "cell_type": "code",
   "execution_count": 16,
   "metadata": {},
   "outputs": [
    {
     "name": "stdout",
     "output_type": "stream",
     "text": [
      "<class 'pandas.core.frame.DataFrame'>\n",
      "RangeIndex: 10933 entries, 0 to 10932\n",
      "Data columns (total 12 columns):\n",
      " #   Column        Non-Null Count  Dtype  \n",
      "---  ------        --------------  -----  \n",
      " 0   id            10933 non-null  object \n",
      " 1   name          10933 non-null  object \n",
      " 2   postal_code   10930 non-null  float64\n",
      " 3   latitude      10933 non-null  float64\n",
      " 4   longitude     10933 non-null  float64\n",
      " 5   city_id       10933 non-null  int64  \n",
      " 6   category_id   10933 non-null  object \n",
      " 7   stars         10933 non-null  float64\n",
      " 8   review_count  10933 non-null  int64  \n",
      " 9   address       10807 non-null  object \n",
      " 10  is_open       10933 non-null  int64  \n",
      " 11  atributos     10933 non-null  object \n",
      "dtypes: float64(4), int64(3), object(5)\n",
      "memory usage: 1.0+ MB\n",
      "None\n",
      "                         id                            name  postal_code  \\\n",
      "0  aamorepizzer278603827290  A' Amor'e Pizzeria Grill & Pub      33782.0   \n",
      "1  aapizzaxxxxx283578826647                     A & A Pizza      34667.0   \n",
      "2  abbottstatio282351821827       Abbott Station Restaurant      33542.0   \n",
      "3  abbyshealthn280783825080       Abby's Health & Nutrition      33618.0   \n",
      "4  abcfinewinea280147826140       ABC Fine Wine and Spirits      33635.0   \n",
      "\n",
      "    latitude  longitude  city_id   category_id  stars  review_count  \\\n",
      "0  27.860339 -82.729034       76          [26]    3.5            30   \n",
      "1  28.357835 -82.664780      327  [19, 26, 27]    4.5            12   \n",
      "2  28.235147 -82.182796      201          [37]    4.5            14   \n",
      "3  28.078391 -82.508078        3          [48]    4.0            67   \n",
      "4  28.014744 -82.614059        3          [48]    4.5            16   \n",
      "\n",
      "                    address  is_open  \\\n",
      "0            9700 66th St N        1   \n",
      "1           13800 Little Rd        1   \n",
      "2            5327 Gall Blvd        0   \n",
      "3    14374 N Dale Mabry Hwy        1   \n",
      "4  11615 W Hillsborough Ave        1   \n",
      "\n",
      "                                           atributos  \n",
      "0  [delivery, takeout, outdoor_seating, wheelchai...  \n",
      "1  [delivery, takeout, outdoor_seating, wheelchai...  \n",
      "2  [takeout, outdoor_seating, catering, seating, ...  \n",
      "3  [takeout, wheelchair_friendly, catering, seati...  \n",
      "4  [delivery, seating, bike_parking, parking, cre...  \n"
     ]
    }
   ],
   "source": [
    "business_limpio = business.drop (columns = ['delivery', 'takeout', 'outdoor_seating', 'drivethrough',\n",
    "                                            'wheelchair_friendly', 'alcohol_beverage', 'dancing', 'catering',\n",
    "                                            'counter_service', 'seating', 'dogs_allowed', 'bike_parking', \n",
    "                                            'parking', 'breakfast', 'lunch', 'dinner', 'dessert', 'casual', \n",
    "                                            'romantic', 'formal', 'trendy', 'with_reservation', \n",
    "                                            'live_entertainment', 'groups', 'kids_friendly', 'wifi', \n",
    "                                            'bar_onsite', 'credit_cards'])\n",
    "\n",
    "print(business_limpio.info())\n",
    "print(business_limpio.head())"
   ]
  },
  {
   "cell_type": "code",
   "execution_count": 17,
   "metadata": {},
   "outputs": [],
   "source": [
    "# Convertir tipos de datos\n",
    "business_limpio['id'] = business_limpio['id'].astype(str)\n",
    "business_limpio['name'] = business_limpio['name'].astype(str)\n",
    "business_limpio['address'] = business_limpio['address'].astype(str)\n",
    "\n",
    "#business_limpio['postal_code'] = business_limpio['postal_code'].astype('int64')\n",
    "business_limpio['city_id'] = business_limpio['city_id'].astype('int64')\n",
    "business_limpio['review_count'] = business_limpio['review_count'].astype('int64')\n",
    "business_limpio['is_open'] = business_limpio['is_open'].astype('int64')\n",
    "\n",
    "# Redondear latitud y longitud a 7 decimales\n",
    "business_limpio['latitude'] = business_limpio['latitude'].round(7)\n",
    "business_limpio['longitude'] = business_limpio['longitude'].round(7)\n",
    "\n",
    "# Redondear estrellas a 1 decimal\n",
    "business_limpio['stars'] = business_limpio['stars'].round(1)"
   ]
  },
  {
   "cell_type": "code",
   "execution_count": 18,
   "metadata": {},
   "outputs": [
    {
     "name": "stdout",
     "output_type": "stream",
     "text": [
      "<class 'pandas.core.frame.DataFrame'>\n",
      "RangeIndex: 15782 entries, 0 to 15781\n",
      "Data columns (total 12 columns):\n",
      " #   Column          Non-Null Count  Dtype  \n",
      "---  ------          --------------  -----  \n",
      " 0   id              15782 non-null  object \n",
      " 1   name            15782 non-null  object \n",
      " 2   street_address  15782 non-null  object \n",
      " 3   postal_code     15782 non-null  int64  \n",
      " 4   latitude        15782 non-null  float64\n",
      " 5   longitude       15782 non-null  float64\n",
      " 6   city_id         15782 non-null  int64  \n",
      " 7   category_id     15782 non-null  object \n",
      " 8   stars           15782 non-null  float64\n",
      " 9   review_count    15782 non-null  int64  \n",
      " 10  is_open         15782 non-null  int64  \n",
      " 11  atributos       15782 non-null  object \n",
      "dtypes: float64(3), int64(4), object(5)\n",
      "memory usage: 1.4+ MB\n",
      "None\n",
      "<class 'pandas.core.frame.DataFrame'>\n",
      "RangeIndex: 10933 entries, 0 to 10932\n",
      "Data columns (total 12 columns):\n",
      " #   Column        Non-Null Count  Dtype  \n",
      "---  ------        --------------  -----  \n",
      " 0   id            10933 non-null  object \n",
      " 1   name          10933 non-null  object \n",
      " 2   postal_code   10930 non-null  float64\n",
      " 3   latitude      10933 non-null  float64\n",
      " 4   longitude     10933 non-null  float64\n",
      " 5   city_id       10933 non-null  int64  \n",
      " 6   category_id   10933 non-null  object \n",
      " 7   stars         10933 non-null  float64\n",
      " 8   review_count  10933 non-null  int64  \n",
      " 9   address       10933 non-null  object \n",
      " 10  is_open       10933 non-null  int64  \n",
      " 11  atributos     10933 non-null  object \n",
      "dtypes: float64(4), int64(3), object(5)\n",
      "memory usage: 1.0+ MB\n",
      "None\n"
     ]
    }
   ],
   "source": [
    "print(metadata_limpio.info())\n",
    "print(business_limpio.info())"
   ]
  },
  {
   "cell_type": "code",
   "execution_count": 19,
   "metadata": {},
   "outputs": [
    {
     "name": "stdout",
     "output_type": "stream",
     "text": [
      "<class 'pandas.core.frame.DataFrame'>\n",
      "RangeIndex: 26715 entries, 0 to 26714\n",
      "Data columns (total 12 columns):\n",
      " #   Column          Non-Null Count  Dtype  \n",
      "---  ------          --------------  -----  \n",
      " 0   id              26715 non-null  object \n",
      " 1   name            26715 non-null  object \n",
      " 2   street_address  26715 non-null  object \n",
      " 3   postal_code     26715 non-null  int64  \n",
      " 4   latitude        26715 non-null  float64\n",
      " 5   longitude       26715 non-null  float64\n",
      " 6   city_id         26715 non-null  int64  \n",
      " 7   category_id     26715 non-null  object \n",
      " 8   stars           26715 non-null  float64\n",
      " 9   review_count    26715 non-null  int64  \n",
      " 10  is_open         26715 non-null  int64  \n",
      " 11  atributos       26715 non-null  object \n",
      "dtypes: float64(3), int64(4), object(5)\n",
      "memory usage: 2.4+ MB\n",
      "None\n",
      "                         id                       name  \\\n",
      "0  aagrillxxxxx261688801011                  A1A Grill   \n",
      "1  abacoagolfcl268885801199           Abacoa Golf Club   \n",
      "2  abacusbusine284586814547  Abacus Business Solutions   \n",
      "3  abbaletelavi257688801366  Abbalé Telavivian Kitchen   \n",
      "4  abbesdonutsh270467822499          Abbe's Donut Shop   \n",
      "\n",
      "                 street_address  postal_code   latitude  longitude  city_id  \\\n",
      "0               3330 NE 33rd St        33308  26.168882 -80.101176       10   \n",
      "1               105 Barbados Dr        33458  26.888523 -80.119915       62   \n",
      "2   7091 Grand National Dr #104        32819  28.458687 -81.454768        4   \n",
      "3               864 Commerce St        33139  25.768865 -80.136603       45   \n",
      "4           13625 Tamiami Trail        34287  27.046739 -82.249915       34   \n",
      "\n",
      "  category_id  stars  review_count  is_open  \\\n",
      "0        [45]    5.0             7        1   \n",
      "1        [61]    4.4           104        1   \n",
      "2        [37]    1.0             1        1   \n",
      "3        [37]    4.4            73        1   \n",
      "4        [37]    4.7            18        1   \n",
      "\n",
      "                                           atributos  \n",
      "0        [takeout, fast_comfort_food, kids_friendly]  \n",
      "1                              [wheelchair_friendly]  \n",
      "2                    [delivery, wheelchair_friendly]  \n",
      "3  [delivery, takeout, dinein, outdoor_seating, s...  \n",
      "4  [delivery, takeout, dinein, solo_dining, wheel...  \n"
     ]
    }
   ],
   "source": [
    "# Renombrar 'address' a 'street_address' en business_limpio\n",
    "business_limpio = business_limpio.rename(columns={'address': 'street_address'})\n",
    "\n",
    "# Convertir postal_code de business_limpio a int64, reemplazando NaN por 0\n",
    "business_limpio['postal_code'] = business_limpio['postal_code'].fillna(0).astype('int64')\n",
    "\n",
    "# Asegurar que ambas tablas tienen las mismas columnas y en el mismo orden\n",
    "columnas_ordenadas = [\n",
    "    'id', 'name', 'street_address', 'postal_code', 'latitude', 'longitude', \n",
    "    'city_id', 'category_id', 'stars', 'review_count', 'is_open', 'atributos'\n",
    "]\n",
    "\n",
    "metadata_limpio = metadata_limpio[columnas_ordenadas]\n",
    "business_limpio = business_limpio[columnas_ordenadas]\n",
    "\n",
    "# Concatenar las tablas\n",
    "negocios = pd.concat([metadata_limpio, business_limpio], ignore_index=True)\n",
    "\n",
    "# Verificar la estructura final\n",
    "print(negocios.info())\n",
    "print(negocios.head())"
   ]
  },
  {
   "cell_type": "code",
   "execution_count": 20,
   "metadata": {},
   "outputs": [],
   "source": [
    "negocios_limpio = negocios.drop(columns=['category_id','atributos'])"
   ]
  },
  {
   "cell_type": "code",
   "execution_count": 21,
   "metadata": {},
   "outputs": [
    {
     "name": "stdout",
     "output_type": "stream",
     "text": [
      "Se encontraron 390 IDs duplicados en la tabla negocios.\n",
      "id\n",
      "goldenwokxxx284910825404    2\n",
      "littleleonxx279363825026    2\n",
      "rockinwingsx280227827719    2\n",
      "mcdonaldsxxx281878825463    2\n",
      "subwayxxxxxx279391822546    2\n",
      "                           ..\n",
      "wokchistirfr281875823501    2\n",
      "yborbeverage279593824368    2\n",
      "yuppixxxxxxx279600824384    2\n",
      "zzpizzasxxxx279862825700    2\n",
      "adryanaslati280163821228    2\n",
      "Name: count, Length: 390, dtype: int64\n"
     ]
    }
   ],
   "source": [
    "# Contar cuántas veces aparece cada ID\n",
    "duplicados_id = negocios_limpio['id'].value_counts()\n",
    "\n",
    "# Filtrar solo los IDs que aparecen más de una vez\n",
    "duplicados_id = duplicados_id[duplicados_id > 1]\n",
    "\n",
    "# Mostrar los duplicados si existen\n",
    "if not duplicados_id.empty:\n",
    "    print(f\"Se encontraron {len(duplicados_id)} IDs duplicados en la tabla negocios.\")\n",
    "    print(duplicados_id)\n",
    "else:\n",
    "    print(\"No hay IDs duplicados en la tabla negocios.\")"
   ]
  },
  {
   "cell_type": "code",
   "execution_count": 22,
   "metadata": {},
   "outputs": [],
   "source": [
    "# Eliminar duplicados basados en 'id', conservando la primera aparición\n",
    "negocios_limpio = negocios_limpio.drop_duplicates(subset=['id'], keep='first')"
   ]
  },
  {
   "cell_type": "code",
   "execution_count": 23,
   "metadata": {},
   "outputs": [
    {
     "name": "stdout",
     "output_type": "stream",
     "text": [
      "Pares duplicados de ciudades:\n",
      "     city_id            city  population\n",
      "333      336  Pine Ridge Cdp       10676\n",
      "670      692  Pine Ridge Cdp        1800\n",
      "83        84  University Cdp       48868\n",
      "97        98  University Cdp       42481\n",
      "483      496   Whitfield Cdp        4745\n",
      "792      834   Whitfield Cdp         626\n"
     ]
    }
   ],
   "source": [
    "# Buscar duplicados en 'city' (sin eliminar nada)\n",
    "duplicados = ciudades[ciudades.duplicated(subset=['city'], keep=False)]\n",
    "\n",
    "# Mostrar los duplicados en consola\n",
    "print(\"Pares duplicados de ciudades:\")\n",
    "print(duplicados.sort_values(by='city'))\n"
   ]
  },
  {
   "cell_type": "code",
   "execution_count": 24,
   "metadata": {},
   "outputs": [
    {
     "name": "stdout",
     "output_type": "stream",
     "text": [
      "     city_id            city  population\n",
      "83        84  University Cdp       48868\n",
      "333      336  Pine Ridge Cdp       10676\n",
      "483      496   Whitfield Cdp        4745\n"
     ]
    }
   ],
   "source": [
    "# Eliminar duplicados basados en la columna 'city' (mantiene la primera ocurrencia)\n",
    "ciudades = ciudades.drop_duplicates(subset=['city']) \n",
    "\n",
    "#Encontrar los `city` que tenían duplicados\n",
    "duplicados = [\"Pine Ridge Cdp\", \"University Cdp\", \"Whitfield Cdp\"]\n",
    "\n",
    "# Ver qué `city_id` quedaron después de eliminar duplicados\n",
    "ciudades_filtradas = ciudades[ciudades['city'].isin(duplicados)]\n",
    "\n",
    "print(ciudades_filtradas)"
   ]
  },
  {
   "cell_type": "code",
   "execution_count": 25,
   "metadata": {},
   "outputs": [],
   "source": [
    "# Diccionario con los `city_id` a reemplazar\n",
    "mapeo_city_id = {\n",
    "    692: 336,  # Pine Ridge Cdp\n",
    "    98: 84,    # University Cdp\n",
    "    834: 496   # Whitfield Cdp\n",
    "}\n",
    "\n",
    "# Reemplazar city_id en el DataFrame de negocios\n",
    "negocios_limpio['city_id'] = negocios_limpio['city_id'].replace(mapeo_city_id)"
   ]
  },
  {
   "cell_type": "markdown",
   "metadata": {},
   "source": [
    "## Revisión de reviews y unificacion"
   ]
  },
  {
   "cell_type": "code",
   "execution_count": 26,
   "metadata": {},
   "outputs": [
    {
     "name": "stdout",
     "output_type": "stream",
     "text": [
      "<class 'pandas.core.frame.DataFrame'>\n",
      "RangeIndex: 271477 entries, 0 to 271476\n",
      "Data columns (total 6 columns):\n",
      " #   Column          Non-Null Count   Dtype  \n",
      "---  ------          --------------   -----  \n",
      " 0   id              271477 non-null  object \n",
      " 1   rating          271477 non-null  int64  \n",
      " 2   has_text        271477 non-null  int64  \n",
      " 3   vader_score     271477 non-null  float64\n",
      " 4   textblob_score  271477 non-null  float64\n",
      " 5   date            271477 non-null  object \n",
      "dtypes: float64(2), int64(2), object(2)\n",
      "memory usage: 12.4+ MB\n"
     ]
    }
   ],
   "source": [
    "reviews_gm.info()"
   ]
  },
  {
   "cell_type": "code",
   "execution_count": null,
   "metadata": {},
   "outputs": [],
   "source": []
  },
  {
   "cell_type": "code",
   "execution_count": 27,
   "metadata": {},
   "outputs": [
    {
     "name": "stdout",
     "output_type": "stream",
     "text": [
      "<class 'pandas.core.frame.DataFrame'>\n",
      "RangeIndex: 271477 entries, 0 to 271476\n",
      "Data columns (total 6 columns):\n",
      " #   Column          Non-Null Count   Dtype         \n",
      "---  ------          --------------   -----         \n",
      " 0   id              271477 non-null  object        \n",
      " 1   rating          271477 non-null  int64         \n",
      " 2   has_text        271477 non-null  int64         \n",
      " 3   vader_score     271477 non-null  float64       \n",
      " 4   textblob_score  271477 non-null  float64       \n",
      " 5   date            271477 non-null  datetime64[ns]\n",
      "dtypes: datetime64[ns](1), float64(2), int64(2), object(1)\n",
      "memory usage: 12.4+ MB\n",
      "None\n",
      "                         id  rating  has_text  vader_score  textblob_score  \\\n",
      "0  gormleysonth297269849815       5         1        0.958           0.206   \n",
      "1  gormleysonth297269849815       1         1        0.919           0.497   \n",
      "2  gormleysonth297269849815       5         1        0.681           0.100   \n",
      "3  gormleysonth297269849815       5         1        0.791           0.750   \n",
      "4  gormleysonth297269849815       5         1        0.440           0.700   \n",
      "\n",
      "        date  \n",
      "0 2018-09-17  \n",
      "1 2018-09-20  \n",
      "2 2018-08-22  \n",
      "3 2019-04-17  \n",
      "4 2019-05-20  \n"
     ]
    }
   ],
   "source": [
    "# Convertir tipos de datos\n",
    "reviews_gm['id'] = reviews_gm['id'].astype(str)\n",
    "reviews_gm['rating'] = reviews_gm['rating'].astype('int64')\n",
    "reviews_gm['has_text'] = reviews_gm['has_text'].astype('int64')\n",
    "\n",
    "# Redondear los puntajes a 3 decimales\n",
    "reviews_gm['vader_score'] = reviews_gm['vader_score'].round(3)\n",
    "reviews_gm['textblob_score'] = reviews_gm['textblob_score'].round(3)\n",
    "\n",
    "# Convertir la columna 'date' a formato datetime\n",
    "reviews_gm['date'] = pd.to_datetime(reviews_gm['date'])\n",
    "\n",
    "# Verificar la estructura después de la conversión\n",
    "print(reviews_gm.info())\n",
    "print(reviews_gm.head())"
   ]
  },
  {
   "cell_type": "code",
   "execution_count": 28,
   "metadata": {},
   "outputs": [
    {
     "name": "stdout",
     "output_type": "stream",
     "text": [
      "<class 'pandas.core.frame.DataFrame'>\n",
      "RangeIndex: 480440 entries, 0 to 480439\n",
      "Data columns (total 6 columns):\n",
      " #   Column          Non-Null Count   Dtype         \n",
      "---  ------          --------------   -----         \n",
      " 0   id              480440 non-null  object        \n",
      " 1   rating          480440 non-null  int64         \n",
      " 2   has_text        480440 non-null  int64         \n",
      " 3   vader_score     480440 non-null  float64       \n",
      " 4   textblob_score  480440 non-null  float64       \n",
      " 5   date            480440 non-null  datetime64[ns]\n",
      "dtypes: datetime64[ns](1), float64(2), int64(2), object(1)\n",
      "memory usage: 22.0+ MB\n",
      "None\n",
      "                         id  rating  has_text  vader_score  textblob_score  \\\n",
      "0  avaxxxxxxxxx279362824828       1         1       -0.459          -0.078   \n",
      "1  deccanspicex278944826674       5         1        0.971           0.367   \n",
      "2  daddydawgsho280233827082       5         1        0.637           0.417   \n",
      "3  lobsterhaven280300826384       5         1        0.988           0.348   \n",
      "4  sakiendlesss279572827295       5         1        0.952           0.440   \n",
      "\n",
      "        date  \n",
      "0 2018-02-11  \n",
      "1 2017-05-26  \n",
      "2 2017-10-11  \n",
      "3 2018-03-04  \n",
      "4 2018-08-24  \n"
     ]
    }
   ],
   "source": [
    "# Convertir tipos de datos\n",
    "reviews_y['id'] = reviews_y['id'].astype(str)\n",
    "reviews_y['rating'] = reviews_y['rating'].astype('int64')\n",
    "reviews_y['has_text'] = reviews_y['has_text'].astype('int64')\n",
    "\n",
    "# Redondear los puntajes a 3 decimales\n",
    "reviews_y['vader_score'] = reviews_y['vader_score'].round(3)\n",
    "reviews_y['textblob_score'] = reviews_y['textblob_score'].round(3)\n",
    "\n",
    "# Convertir la columna 'date' a formato datetime\n",
    "reviews_y['date'] = pd.to_datetime(reviews_y['date'])\n",
    "\n",
    "# Verificar la estructura después de la conversión\n",
    "print(reviews_y.info())\n",
    "print(reviews_y.head())"
   ]
  },
  {
   "cell_type": "code",
   "execution_count": 29,
   "metadata": {},
   "outputs": [
    {
     "name": "stdout",
     "output_type": "stream",
     "text": [
      "<class 'pandas.core.frame.DataFrame'>\n",
      "RangeIndex: 751917 entries, 0 to 751916\n",
      "Data columns (total 6 columns):\n",
      " #   Column          Non-Null Count   Dtype         \n",
      "---  ------          --------------   -----         \n",
      " 0   id              751917 non-null  object        \n",
      " 1   rating          751917 non-null  int64         \n",
      " 2   has_text        751917 non-null  int64         \n",
      " 3   vader_score     751917 non-null  float64       \n",
      " 4   textblob_score  751917 non-null  float64       \n",
      " 5   date            751917 non-null  datetime64[ns]\n",
      "dtypes: datetime64[ns](1), float64(2), int64(2), object(1)\n",
      "memory usage: 34.4+ MB\n",
      "None\n",
      "                         id  rating  has_text  vader_score  textblob_score  \\\n",
      "0  gormleysonth297269849815       5         1        0.958           0.206   \n",
      "1  gormleysonth297269849815       1         1        0.919           0.497   \n",
      "2  gormleysonth297269849815       5         1        0.681           0.100   \n",
      "3  gormleysonth297269849815       5         1        0.791           0.750   \n",
      "4  gormleysonth297269849815       5         1        0.440           0.700   \n",
      "\n",
      "        date  \n",
      "0 2018-09-17  \n",
      "1 2018-09-20  \n",
      "2 2018-08-22  \n",
      "3 2019-04-17  \n",
      "4 2019-05-20  \n"
     ]
    }
   ],
   "source": [
    "# Asegurar que ambas tablas tienen las mismas columnas y en el mismo orden\n",
    "columnas_ordenadas = ['id', 'rating', 'has_text', 'vader_score', 'textblob_score', 'date']\n",
    "\n",
    "reviews_gm = reviews_gm[columnas_ordenadas]\n",
    "reviews_y = reviews_y[columnas_ordenadas]\n",
    "\n",
    "# Concatenar las tablas\n",
    "reviews = pd.concat([reviews_gm, reviews_y], ignore_index=True)\n",
    "\n",
    "# Verificar la estructura después de la concatenación\n",
    "print(reviews.info())\n",
    "print(reviews.head())\n"
   ]
  },
  {
   "cell_type": "code",
   "execution_count": 30,
   "metadata": {},
   "outputs": [],
   "source": [
    "# Limpiar la columna 'id': quitar espacios y acentos\n",
    "reviews['id'] = reviews['id'].apply(lambda x: unidecode(x).replace(\" \", \"\"))"
   ]
  },
  {
   "cell_type": "code",
   "execution_count": 31,
   "metadata": {},
   "outputs": [],
   "source": [
    "# Guardar las tablas\n",
    "negocios_limpio.to_csv(r'modelado/negocios.csv', index = False)\n",
    "ciudades.to_csv(r'modelado/ciudades.csv', index = False)\n",
    "reviews.to_csv(r'modelado/reviews.csv', index = False)\n",
    "categorias.to_csv(r'modelado/categorias.csv', index = False)"
   ]
  },
  {
   "cell_type": "code",
   "execution_count": 35,
   "metadata": {},
   "outputs": [
    {
     "name": "stdout",
     "output_type": "stream",
     "text": [
      "<class 'pandas.core.frame.DataFrame'>\n",
      "Index: 36326 entries, 0 to 36521\n",
      "Data columns (total 2 columns):\n",
      " #   Column       Non-Null Count  Dtype \n",
      "---  ------       --------------  ----- \n",
      " 0   id           36326 non-null  object\n",
      " 1   category_id  36326 non-null  object\n",
      "dtypes: object(2)\n",
      "memory usage: 851.4+ KB\n",
      "None\n",
      "                         id category_id\n",
      "0  aamorepizzer278603827290          26\n",
      "1  aapizzaxxxxx283578826647          19\n",
      "2  aapizzaxxxxx283578826647          26\n",
      "3  aapizzaxxxxx283578826647          27\n",
      "4  abbottstatio282351821827          37\n",
      "<class 'pandas.core.frame.DataFrame'>\n",
      "RangeIndex: 66 entries, 0 to 65\n",
      "Data columns (total 2 columns):\n",
      " #   Column       Non-Null Count  Dtype \n",
      "---  ------       --------------  ----- \n",
      " 0   category_id  66 non-null     int64 \n",
      " 1   category     65 non-null     object\n",
      "dtypes: int64(1), object(1)\n",
      "memory usage: 1.2+ KB\n",
      "None\n",
      "   category_id    category\n",
      "0            1     Chinese\n",
      "1            2    Japanese\n",
      "2            3      Korean\n",
      "3            4        Thai\n",
      "4            5  Vietnamese\n"
     ]
    }
   ],
   "source": [
    "print(negocios_categorias.info())\n",
    "print(negocios_categorias.head())\n",
    "print(categorias.info())\n",
    "print(categorias.head())"
   ]
  },
  {
   "cell_type": "code",
   "execution_count": null,
   "metadata": {},
   "outputs": [
    {
     "name": "stdout",
     "output_type": "stream",
     "text": [
      "                         id             category\n",
      "0  aamorepizzer278603827290                Pizza\n",
      "1  aapizzaxxxxx283578826647     Western European\n",
      "2  aapizzaxxxxx283578826647                Pizza\n",
      "3  aapizzaxxxxx283578826647  Burgers & Fast Food\n",
      "4  abbottstatio282351821827           Restaurant\n"
     ]
    }
   ],
   "source": [
    "# Unir los DataFrames en base a 'category_id'\n",
    "negocios_con_categorias = negocios_categorias.merge(categorias, on='category_id', how='left')\n",
    "\n",
    "# Seleccionar solo las columnas 'id' y 'category'\n",
    "negocios_con_categorias = negocios_con_categorias[['id', 'category']]\n",
    "\n",
    "# Opcional: Reemplazar valores nulos en 'category' si es necesario\n",
    "negocios_con_categorias.fillna('None', inplace=True)\n",
    "\n",
    "# Mostrar los primeros resultados\n",
    "print(negocios_con_categorias.head())"
   ]
  },
  {
   "cell_type": "code",
   "execution_count": 38,
   "metadata": {},
   "outputs": [
    {
     "name": "stdout",
     "output_type": "stream",
     "text": [
      "                         id             atributo\n",
      "0  aamorepizzer278603827290             delivery\n",
      "1  aamorepizzer278603827290              takeout\n",
      "2  aamorepizzer278603827290      outdoor_seating\n",
      "3  aamorepizzer278603827290  wheelchair_friendly\n",
      "4  aamorepizzer278603827290     alcohol_beverage\n"
     ]
    }
   ],
   "source": [
    "# Unir los DataFrames en base a 'atributo_id'\n",
    "negocios_con_atributos = negocios_atributos.merge(df_atributos, on='atributo_id', how='left')\n",
    "\n",
    "# Seleccionar solo las columnas 'id' y 'category'\n",
    "negocios_con_atributos = negocios_con_atributos[['id', 'atributo']]\n",
    "\n",
    "# Opcional: Reemplazar valores nulos en 'category' si es necesario\n",
    "# negocios_con_atributos.fillna('None', inplace=True)\n",
    "\n",
    "# Mostrar los primeros resultados\n",
    "print(negocios_con_atributos.head())"
   ]
  },
  {
   "cell_type": "code",
   "execution_count": 40,
   "metadata": {},
   "outputs": [
    {
     "name": "stdout",
     "output_type": "stream",
     "text": [
      "<class 'pandas.core.frame.DataFrame'>\n",
      "RangeIndex: 249747 entries, 0 to 249746\n",
      "Data columns (total 2 columns):\n",
      " #   Column    Non-Null Count   Dtype \n",
      "---  ------    --------------   ----- \n",
      " 0   id        249747 non-null  object\n",
      " 1   atributo  249747 non-null  object\n",
      "dtypes: object(2)\n",
      "memory usage: 3.8+ MB\n"
     ]
    }
   ],
   "source": [
    "negocios_con_atributos.info()"
   ]
  },
  {
   "cell_type": "code",
   "execution_count": 41,
   "metadata": {},
   "outputs": [],
   "source": [
    "negocios_con_categorias.to_csv(r'modelado/categorias_sin_id.csv', index=False)\n",
    "negocios_con_atributos.to_csv(r'modelado/atributos_sin_id.csv', index=False)"
   ]
  }
 ],
 "metadata": {
  "kernelspec": {
   "display_name": "Python 3",
   "language": "python",
   "name": "python3"
  },
  "language_info": {
   "codemirror_mode": {
    "name": "ipython",
    "version": 3
   },
   "file_extension": ".py",
   "mimetype": "text/x-python",
   "name": "python",
   "nbconvert_exporter": "python",
   "pygments_lexer": "ipython3",
   "version": "3.13.1"
  }
 },
 "nbformat": 4,
 "nbformat_minor": 2
}
