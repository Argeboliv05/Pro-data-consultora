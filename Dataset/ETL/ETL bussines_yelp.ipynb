{
 "cells": [
  {
   "cell_type": "markdown",
   "metadata": {},
   "source": [
    "# **ETL `bussines_yelp`**"
   ]
  },
  {
   "cell_type": "code",
   "execution_count": 1,
   "metadata": {},
   "outputs": [],
   "source": [
    "import os\n",
    "import pandas as pd # type: ignore\n",
    "import matplotlib.pyplot as plt # type: ignore\n",
    "from collections import Counter\n",
    "import itertools\n",
    "import json\n",
    "import re\n",
    "import ast"
   ]
  },
  {
   "cell_type": "code",
   "execution_count": 2,
   "metadata": {},
   "outputs": [],
   "source": [
    "business_yelp = pd.read_pickle(r'Yelp\\business.pkl')"
   ]
  },
  {
   "cell_type": "code",
   "execution_count": 3,
   "metadata": {},
   "outputs": [
    {
     "name": "stdout",
     "output_type": "stream",
     "text": [
      "Index(['business_id', 'name', 'address', 'city', 'state', 'postal_code',\n",
      "       'latitude', 'longitude', 'stars', 'review_count', 'is_open',\n",
      "       'attributes', 'categories', 'hours'],\n",
      "      dtype='object')\n"
     ]
    }
   ],
   "source": [
    "# Eliminar columnas duplicadas manteniendo la primera aparición\n",
    "business_yelp = business_yelp.loc[:, ~business_yelp.columns.duplicated()]\n",
    "\n",
    "# Verificar que se eliminaron los duplicados\n",
    "print(business_yelp.columns)"
   ]
  },
  {
   "cell_type": "code",
   "execution_count": 4,
   "metadata": {},
   "outputs": [],
   "source": [
    "business_yelp = business_yelp.copy()"
   ]
  },
  {
   "cell_type": "code",
   "execution_count": 5,
   "metadata": {},
   "outputs": [],
   "source": [
    "# Convertir la columna a string (por si tiene valores no string o NaN)\n",
    "business_yelp['categories'] = business_yelp['categories'].astype(str)\n",
    "\n",
    "# Filtrar negocios que pertenecen a las categorías \"Restaurants\", \"Food\" o \"Bar\"\n",
    "business_filtered = business_yelp[business_yelp['categories'].str.contains(r\"restaurant|food|\\bbar\\b\", na=False, case=False)]"
   ]
  },
  {
   "cell_type": "code",
   "execution_count": 6,
   "metadata": {},
   "outputs": [
    {
     "data": {
      "text/html": [
       "<div>\n",
       "<style scoped>\n",
       "    .dataframe tbody tr th:only-of-type {\n",
       "        vertical-align: middle;\n",
       "    }\n",
       "\n",
       "    .dataframe tbody tr th {\n",
       "        vertical-align: top;\n",
       "    }\n",
       "\n",
       "    .dataframe thead th {\n",
       "        text-align: right;\n",
       "    }\n",
       "</style>\n",
       "<table border=\"1\" class=\"dataframe\">\n",
       "  <thead>\n",
       "    <tr style=\"text-align: right;\">\n",
       "      <th></th>\n",
       "      <th>business_id</th>\n",
       "      <th>name</th>\n",
       "      <th>address</th>\n",
       "      <th>city</th>\n",
       "      <th>state</th>\n",
       "      <th>postal_code</th>\n",
       "      <th>latitude</th>\n",
       "      <th>longitude</th>\n",
       "      <th>stars</th>\n",
       "      <th>review_count</th>\n",
       "      <th>is_open</th>\n",
       "      <th>attributes</th>\n",
       "      <th>categories</th>\n",
       "      <th>hours</th>\n",
       "    </tr>\n",
       "  </thead>\n",
       "  <tbody>\n",
       "    <tr>\n",
       "      <th>3</th>\n",
       "      <td>MTSW4McQd7CbVtyjqoe9mw</td>\n",
       "      <td>St Honore Pastries</td>\n",
       "      <td>935 Race St</td>\n",
       "      <td>Philadelphia</td>\n",
       "      <td>CA</td>\n",
       "      <td>19107</td>\n",
       "      <td>39.955505</td>\n",
       "      <td>-75.155564</td>\n",
       "      <td>4.0</td>\n",
       "      <td>80</td>\n",
       "      <td>1</td>\n",
       "      <td>{'RestaurantsDelivery': 'False', 'OutdoorSeati...</td>\n",
       "      <td>Restaurants, Food, Bubble Tea, Coffee &amp; Tea, B...</td>\n",
       "      <td>{'Monday': '7:0-20:0', 'Tuesday': '7:0-20:0', ...</td>\n",
       "    </tr>\n",
       "    <tr>\n",
       "      <th>4</th>\n",
       "      <td>mWMc6_wTdE0EUBKIGXDVfA</td>\n",
       "      <td>Perkiomen Valley Brewery</td>\n",
       "      <td>101 Walnut St</td>\n",
       "      <td>Green Lane</td>\n",
       "      <td>MO</td>\n",
       "      <td>18054</td>\n",
       "      <td>40.338183</td>\n",
       "      <td>-75.471659</td>\n",
       "      <td>4.5</td>\n",
       "      <td>13</td>\n",
       "      <td>1</td>\n",
       "      <td>{'BusinessAcceptsCreditCards': 'True', 'Wheelc...</td>\n",
       "      <td>Brewpubs, Breweries, Food</td>\n",
       "      <td>{'Wednesday': '14:0-22:0', 'Thursday': '16:0-2...</td>\n",
       "    </tr>\n",
       "  </tbody>\n",
       "</table>\n",
       "</div>"
      ],
      "text/plain": [
       "              business_id                      name        address  \\\n",
       "3  MTSW4McQd7CbVtyjqoe9mw        St Honore Pastries    935 Race St   \n",
       "4  mWMc6_wTdE0EUBKIGXDVfA  Perkiomen Valley Brewery  101 Walnut St   \n",
       "\n",
       "           city state postal_code   latitude  longitude stars review_count  \\\n",
       "3  Philadelphia    CA       19107  39.955505 -75.155564   4.0           80   \n",
       "4    Green Lane    MO       18054  40.338183 -75.471659   4.5           13   \n",
       "\n",
       "  is_open                                         attributes  \\\n",
       "3       1  {'RestaurantsDelivery': 'False', 'OutdoorSeati...   \n",
       "4       1  {'BusinessAcceptsCreditCards': 'True', 'Wheelc...   \n",
       "\n",
       "                                          categories  \\\n",
       "3  Restaurants, Food, Bubble Tea, Coffee & Tea, B...   \n",
       "4                          Brewpubs, Breweries, Food   \n",
       "\n",
       "                                               hours  \n",
       "3  {'Monday': '7:0-20:0', 'Tuesday': '7:0-20:0', ...  \n",
       "4  {'Wednesday': '14:0-22:0', 'Thursday': '16:0-2...  "
      ]
     },
     "execution_count": 6,
     "metadata": {},
     "output_type": "execute_result"
    }
   ],
   "source": [
    "business_filtered.head(2)"
   ]
  },
  {
   "cell_type": "code",
   "execution_count": 7,
   "metadata": {},
   "outputs": [
    {
     "data": {
      "text/html": [
       "<div>\n",
       "<style scoped>\n",
       "    .dataframe tbody tr th:only-of-type {\n",
       "        vertical-align: middle;\n",
       "    }\n",
       "\n",
       "    .dataframe tbody tr th {\n",
       "        vertical-align: top;\n",
       "    }\n",
       "\n",
       "    .dataframe thead th {\n",
       "        text-align: right;\n",
       "    }\n",
       "</style>\n",
       "<table border=\"1\" class=\"dataframe\">\n",
       "  <thead>\n",
       "    <tr style=\"text-align: right;\">\n",
       "      <th></th>\n",
       "      <th>Rank</th>\n",
       "      <th>City</th>\n",
       "      <th>Population</th>\n",
       "    </tr>\n",
       "  </thead>\n",
       "  <tbody>\n",
       "    <tr>\n",
       "      <th>0</th>\n",
       "      <td>1</td>\n",
       "      <td>Jacksonville</td>\n",
       "      <td>985,843</td>\n",
       "    </tr>\n",
       "    <tr>\n",
       "      <th>1</th>\n",
       "      <td>2</td>\n",
       "      <td>Miami</td>\n",
       "      <td>455,924</td>\n",
       "    </tr>\n",
       "  </tbody>\n",
       "</table>\n",
       "</div>"
      ],
      "text/plain": [
       "  Rank          City Population\n",
       "0    1  Jacksonville    985,843\n",
       "1    2         Miami    455,924"
      ]
     },
     "execution_count": 7,
     "metadata": {},
     "output_type": "execute_result"
    }
   ],
   "source": [
    "ciudades = pd.read_csv(r'florida_population.csv')\n",
    "ciudades.head(2)"
   ]
  },
  {
   "cell_type": "code",
   "execution_count": 8,
   "metadata": {},
   "outputs": [],
   "source": [
    "business_filtered = business_filtered.copy()\n",
    "business_filtered['city'] = business_filtered['city'].str.strip().str.lower()\n",
    "\n",
    "ciudades = ciudades.copy()\n",
    "ciudades['City'] = ciudades['City'].str.strip().str.lower()\n",
    "\n",
    "business_filtered = business_filtered[business_filtered['city'].isin(ciudades['City'])]"
   ]
  },
  {
   "cell_type": "code",
   "execution_count": 9,
   "metadata": {},
   "outputs": [],
   "source": [
    "business_filtered = business_filtered.copy()\n",
    "business_filtered['state'] = \"FL\""
   ]
  },
  {
   "cell_type": "code",
   "execution_count": 10,
   "metadata": {},
   "outputs": [
    {
     "data": {
      "text/html": [
       "<div>\n",
       "<style scoped>\n",
       "    .dataframe tbody tr th:only-of-type {\n",
       "        vertical-align: middle;\n",
       "    }\n",
       "\n",
       "    .dataframe tbody tr th {\n",
       "        vertical-align: top;\n",
       "    }\n",
       "\n",
       "    .dataframe thead th {\n",
       "        text-align: right;\n",
       "    }\n",
       "</style>\n",
       "<table border=\"1\" class=\"dataframe\">\n",
       "  <thead>\n",
       "    <tr style=\"text-align: right;\">\n",
       "      <th></th>\n",
       "      <th>business_id</th>\n",
       "      <th>name</th>\n",
       "      <th>address</th>\n",
       "      <th>city</th>\n",
       "      <th>state</th>\n",
       "      <th>postal_code</th>\n",
       "      <th>latitude</th>\n",
       "      <th>longitude</th>\n",
       "      <th>stars</th>\n",
       "      <th>review_count</th>\n",
       "      <th>is_open</th>\n",
       "      <th>attributes</th>\n",
       "      <th>categories</th>\n",
       "      <th>hours</th>\n",
       "    </tr>\n",
       "  </thead>\n",
       "  <tbody>\n",
       "    <tr>\n",
       "      <th>14</th>\n",
       "      <td>0bPLkL0QhhPO5kt1_EXmNQ</td>\n",
       "      <td>Zio's Italian Market</td>\n",
       "      <td>2575 E Bay Dr</td>\n",
       "      <td>largo</td>\n",
       "      <td>FL</td>\n",
       "      <td>33771</td>\n",
       "      <td>27.916116</td>\n",
       "      <td>-82.760461</td>\n",
       "      <td>4.5</td>\n",
       "      <td>100</td>\n",
       "      <td>0</td>\n",
       "      <td>{'OutdoorSeating': 'False', 'RestaurantsGoodFo...</td>\n",
       "      <td>Food, Delis, Italian, Bakeries, Restaurants</td>\n",
       "      <td>{'Monday': '10:0-18:0', 'Tuesday': '10:0-20:0'...</td>\n",
       "    </tr>\n",
       "    <tr>\n",
       "      <th>54</th>\n",
       "      <td>0qNpTGTcqPwOLi2hADx4Xw</td>\n",
       "      <td>Charlie's Market</td>\n",
       "      <td>2815 E Sligh Ave</td>\n",
       "      <td>tampa</td>\n",
       "      <td>FL</td>\n",
       "      <td>33610</td>\n",
       "      <td>28.01036</td>\n",
       "      <td>-82.430042</td>\n",
       "      <td>3.0</td>\n",
       "      <td>9</td>\n",
       "      <td>1</td>\n",
       "      <td>{'BusinessParking': '{'garage': False, 'street...</td>\n",
       "      <td>Food, Grocery, Convenience Stores</td>\n",
       "      <td>None</td>\n",
       "    </tr>\n",
       "  </tbody>\n",
       "</table>\n",
       "</div>"
      ],
      "text/plain": [
       "               business_id                  name           address   city  \\\n",
       "14  0bPLkL0QhhPO5kt1_EXmNQ  Zio's Italian Market     2575 E Bay Dr  largo   \n",
       "54  0qNpTGTcqPwOLi2hADx4Xw      Charlie's Market  2815 E Sligh Ave  tampa   \n",
       "\n",
       "   state postal_code   latitude  longitude stars review_count is_open  \\\n",
       "14    FL       33771  27.916116 -82.760461   4.5          100       0   \n",
       "54    FL       33610   28.01036 -82.430042   3.0            9       1   \n",
       "\n",
       "                                           attributes  \\\n",
       "14  {'OutdoorSeating': 'False', 'RestaurantsGoodFo...   \n",
       "54  {'BusinessParking': '{'garage': False, 'street...   \n",
       "\n",
       "                                     categories  \\\n",
       "14  Food, Delis, Italian, Bakeries, Restaurants   \n",
       "54            Food, Grocery, Convenience Stores   \n",
       "\n",
       "                                                hours  \n",
       "14  {'Monday': '10:0-18:0', 'Tuesday': '10:0-20:0'...  \n",
       "54                                               None  "
      ]
     },
     "execution_count": 10,
     "metadata": {},
     "output_type": "execute_result"
    }
   ],
   "source": [
    "business_filtered.head(2)"
   ]
  },
  {
   "cell_type": "code",
   "execution_count": 11,
   "metadata": {},
   "outputs": [
    {
     "name": "stdout",
     "output_type": "stream",
     "text": [
      "               business_id                  name                 address  \\\n",
      "14  0bPLkL0QhhPO5kt1_EXmNQ  Zio's Italian Market           2575 E Bay Dr   \n",
      "54  0qNpTGTcqPwOLi2hADx4Xw      Charlie's Market        2815 E Sligh Ave   \n",
      "58  uI9XODGY_2_ieTE6xJ0myw           Roman Forum  10440 N Dale Mabry Hwy   \n",
      "59  JgpnXv_0XhV3SfbfB50nxw           Joe's Pizza   2038 N Dale Mabry Hwy   \n",
      "69  KWA2qtdwVEkMpd5soSKaGA   Publix Super Market         12101 Little Rd   \n",
      "\n",
      "      city state postal_code   latitude  longitude stars review_count  ...  \\\n",
      "14   largo    FL       33771  27.916116 -82.760461   4.5          100  ...   \n",
      "54   tampa    FL       33610   28.01036 -82.430042   3.0            9  ...   \n",
      "58   tampa    FL       33618  28.046203 -82.505053   4.0           23  ...   \n",
      "59   tampa    FL       33607  27.960514 -82.506127   4.0           35  ...   \n",
      "69  hudson    FL       34667  28.332601 -82.668107   3.5            7  ...   \n",
      "\n",
      "   BYOB DogsAllowed DriveThru Corkage BYOBCorkage AcceptsInsurance  \\\n",
      "14  NaN         NaN       NaN     NaN         NaN              NaN   \n",
      "54  NaN         NaN       NaN     NaN         NaN              NaN   \n",
      "58  NaN         NaN       NaN     NaN         NaN              NaN   \n",
      "59  NaN         NaN       NaN     NaN         NaN              NaN   \n",
      "69  NaN         NaN       NaN     NaN         NaN              NaN   \n",
      "\n",
      "   AgesAllowed HairSpecializesIn Open24Hours DietaryRestrictions  \n",
      "14         NaN               NaN         NaN                 NaN  \n",
      "54         NaN               NaN         NaN                 NaN  \n",
      "58         NaN               NaN         NaN                 NaN  \n",
      "59         NaN               NaN         NaN                 NaN  \n",
      "69         NaN               NaN         NaN                 NaN  \n",
      "\n",
      "[5 rows x 51 columns]\n"
     ]
    }
   ],
   "source": [
    "# Asegurar que todos los valores de 'attributes' sean diccionarios\n",
    "def convert_to_dict(value):\n",
    "    if isinstance(value, str):  # Si viene como string, convertir a diccionario\n",
    "        try:\n",
    "            return ast.literal_eval(value)\n",
    "        except (ValueError, SyntaxError):\n",
    "            return {}  # Si hay error, devolver un diccionario vacío\n",
    "    elif isinstance(value, dict):\n",
    "        return value  # Si ya es un diccionario, lo dejamos igual\n",
    "    else:\n",
    "        return {}  # Si es otro tipo de dato, lo convertimos a diccionario vacío\n",
    "\n",
    "# Aplicar la conversión\n",
    "business_filtered['attributes'] = business_filtered['attributes'].apply(convert_to_dict)\n",
    "\n",
    "# Expandir la columna attributes en múltiples columnas\n",
    "attributes_expanded = business_filtered['attributes'].apply(pd.Series)\n",
    "\n",
    "# Concatenar las columnas originales con las nuevas\n",
    "business_filtered = pd.concat([business_filtered, attributes_expanded], axis=1)\n",
    "\n",
    "# Eliminar la columna original 'attributes' (opcional)\n",
    "business_filtered.drop(columns=['attributes'], inplace=True)\n",
    "\n",
    "# Ver los primeros valores para comprobar\n",
    "print(business_filtered.head())\n"
   ]
  },
  {
   "cell_type": "code",
   "execution_count": 12,
   "metadata": {},
   "outputs": [
    {
     "name": "stdout",
     "output_type": "stream",
     "text": [
      "<class 'pandas.core.frame.DataFrame'>\n",
      "Index: 10951 entries, 14 to 150297\n",
      "Data columns (total 51 columns):\n",
      " #   Column                      Non-Null Count  Dtype \n",
      "---  ------                      --------------  ----- \n",
      " 0   business_id                 10951 non-null  object\n",
      " 1   name                        10951 non-null  object\n",
      " 2   address                     10951 non-null  object\n",
      " 3   city                        10951 non-null  object\n",
      " 4   state                       10951 non-null  object\n",
      " 5   postal_code                 10951 non-null  object\n",
      " 6   latitude                    10951 non-null  object\n",
      " 7   longitude                   10951 non-null  object\n",
      " 8   stars                       10951 non-null  object\n",
      " 9   review_count                10951 non-null  object\n",
      " 10  is_open                     10951 non-null  object\n",
      " 11  categories                  10951 non-null  object\n",
      " 12  hours                       9593 non-null   object\n",
      " 13  OutdoorSeating              7728 non-null   object\n",
      " 14  RestaurantsGoodForGroups    6859 non-null   object\n",
      " 15  WiFi                        7101 non-null   object\n",
      " 16  RestaurantsPriceRange2      9017 non-null   object\n",
      " 17  RestaurantsDelivery         9174 non-null   object\n",
      " 18  RestaurantsAttire           6296 non-null   object\n",
      " 19  BusinessAcceptsCreditCards  9822 non-null   object\n",
      " 20  RestaurantsTakeOut          9829 non-null   object\n",
      " 21  Caters                      6795 non-null   object\n",
      " 22  NoiseLevel                  5876 non-null   object\n",
      " 23  Ambience                    7054 non-null   object\n",
      " 24  GoodForKids                 6833 non-null   object\n",
      " 25  BusinessAcceptsBitcoin      1410 non-null   object\n",
      " 26  BusinessParking             9420 non-null   object\n",
      " 27  BikeParking                 7622 non-null   object\n",
      " 28  RestaurantsTableService     3672 non-null   object\n",
      " 29  Alcohol                     6742 non-null   object\n",
      " 30  RestaurantsReservations     7214 non-null   object\n",
      " 31  GoodForMeal                 5031 non-null   object\n",
      " 32  HasTV                       7197 non-null   object\n",
      " 33  WheelchairAccessible        3028 non-null   object\n",
      " 34  BestNights                  850 non-null    object\n",
      " 35  ByAppointmentOnly           869 non-null    object\n",
      " 36  GoodForDancing              680 non-null    object\n",
      " 37  HappyHour                   2456 non-null   object\n",
      " 38  Smoking                     636 non-null    object\n",
      " 39  CoatCheck                   845 non-null    object\n",
      " 40  Music                       1023 non-null   object\n",
      " 41  BYOB                        786 non-null    object\n",
      " 42  DogsAllowed                 2452 non-null   object\n",
      " 43  DriveThru                   1430 non-null   object\n",
      " 44  Corkage                     582 non-null    object\n",
      " 45  BYOBCorkage                 82 non-null     object\n",
      " 46  AcceptsInsurance            12 non-null     object\n",
      " 47  AgesAllowed                 13 non-null     object\n",
      " 48  HairSpecializesIn           2 non-null      object\n",
      " 49  Open24Hours                 1 non-null      object\n",
      " 50  DietaryRestrictions         1 non-null      object\n",
      "dtypes: object(51)\n",
      "memory usage: 4.3+ MB\n"
     ]
    }
   ],
   "source": [
    "business_filtered.info()"
   ]
  },
  {
   "cell_type": "code",
   "execution_count": 13,
   "metadata": {},
   "outputs": [],
   "source": [
    "business = business_filtered.copy()"
   ]
  },
  {
   "cell_type": "markdown",
   "metadata": {},
   "source": [
    "Analizamos y expandimos `OutdoorSeating`"
   ]
  },
  {
   "cell_type": "code",
   "execution_count": 14,
   "metadata": {},
   "outputs": [
    {
     "data": {
      "text/plain": [
       "OutdoorSeating\n",
       "True     3901\n",
       "False    3484\n",
       "None      343\n",
       "Name: count, dtype: int64"
      ]
     },
     "execution_count": 14,
     "metadata": {},
     "output_type": "execute_result"
    }
   ],
   "source": [
    "business['OutdoorSeating'].value_counts()"
   ]
  },
  {
   "cell_type": "code",
   "execution_count": 15,
   "metadata": {},
   "outputs": [],
   "source": [
    "business['OutdoorSeating'] = business['OutdoorSeating'].astype(str).map({'True': 1, 'False': 0, 'None': 0}).fillna(0).astype(int)"
   ]
  },
  {
   "cell_type": "markdown",
   "metadata": {},
   "source": [
    "Analizamos y expandimos `RestaurantsGoodForGroups`"
   ]
  },
  {
   "cell_type": "code",
   "execution_count": 16,
   "metadata": {},
   "outputs": [
    {
     "data": {
      "text/plain": [
       "RestaurantsGoodForGroups\n",
       "True     5939\n",
       "False     920\n",
       "Name: count, dtype: int64"
      ]
     },
     "execution_count": 16,
     "metadata": {},
     "output_type": "execute_result"
    }
   ],
   "source": [
    "business['RestaurantsGoodForGroups'].value_counts()"
   ]
  },
  {
   "cell_type": "code",
   "execution_count": 17,
   "metadata": {},
   "outputs": [],
   "source": [
    "business['RestaurantsGoodForGroups'] = business['RestaurantsGoodForGroups'].astype(str).map({'True': 1, 'False': 0, 'None': 0}).fillna(0).astype(int)"
   ]
  },
  {
   "cell_type": "markdown",
   "metadata": {},
   "source": [
    "Analizamos y expandimos `WiFi`"
   ]
  },
  {
   "cell_type": "code",
   "execution_count": 18,
   "metadata": {},
   "outputs": [
    {
     "data": {
      "text/plain": [
       "WiFi\n",
       "u'free'    3024\n",
       "u'no'      1637\n",
       "'free'     1319\n",
       "'no'       1061\n",
       "u'paid'      32\n",
       "'paid'       18\n",
       "None         10\n",
       "Name: count, dtype: int64"
      ]
     },
     "execution_count": 18,
     "metadata": {},
     "output_type": "execute_result"
    }
   ],
   "source": [
    "business['WiFi'].value_counts()"
   ]
  },
  {
   "cell_type": "code",
   "execution_count": 19,
   "metadata": {},
   "outputs": [
    {
     "name": "stdout",
     "output_type": "stream",
     "text": [
      "['no' 'nan' 'free' 'paid' 'None']\n"
     ]
    }
   ],
   "source": [
    "business[\"WiFi\"] = business[\"WiFi\"].astype(str).str.replace(\"u'\", \"\").str.replace(\"'\", \"\").str.strip()\n",
    "print(business[\"WiFi\"].unique())  # Para verificar la limpieza"
   ]
  },
  {
   "cell_type": "code",
   "execution_count": 20,
   "metadata": {},
   "outputs": [],
   "source": [
    "business[\"WiFi\"] = business[\"WiFi\"].map({'no': 0,\n",
    "                                         'nan': 0,\n",
    "                                         'None': 0,\n",
    "                                         'free': 1, \n",
    "                                         'paid': 2}).fillna(0).astype(int)"
   ]
  },
  {
   "cell_type": "markdown",
   "metadata": {},
   "source": [
    "Analizamos y expandimos `RestaurantsPriceRange2`"
   ]
  },
  {
   "cell_type": "code",
   "execution_count": 21,
   "metadata": {},
   "outputs": [
    {
     "data": {
      "text/plain": [
       "RestaurantsPriceRange2\n",
       "2       4552\n",
       "1       4210\n",
       "3        227\n",
       "4         27\n",
       "None       1\n",
       "Name: count, dtype: int64"
      ]
     },
     "execution_count": 21,
     "metadata": {},
     "output_type": "execute_result"
    }
   ],
   "source": [
    "business['RestaurantsPriceRange2'].value_counts()"
   ]
  },
  {
   "cell_type": "code",
   "execution_count": 22,
   "metadata": {},
   "outputs": [],
   "source": [
    "business[\"RestaurantsPriceRange2\"] = business[\"RestaurantsPriceRange2\"].map({'None': 0,}).fillna(0).astype(int)\n",
    "business['RestaurantsPriceRange2'] = business['RestaurantsPriceRange2'].astype(int)"
   ]
  },
  {
   "cell_type": "markdown",
   "metadata": {},
   "source": [
    "Analizamos `RestaurantsDelivery`"
   ]
  },
  {
   "cell_type": "code",
   "execution_count": 23,
   "metadata": {},
   "outputs": [
    {
     "data": {
      "text/plain": [
       "RestaurantsDelivery\n",
       "True     5524\n",
       "False    3080\n",
       "None      570\n",
       "Name: count, dtype: int64"
      ]
     },
     "execution_count": 23,
     "metadata": {},
     "output_type": "execute_result"
    }
   ],
   "source": [
    "business['RestaurantsDelivery'].value_counts()"
   ]
  },
  {
   "cell_type": "code",
   "execution_count": 24,
   "metadata": {},
   "outputs": [],
   "source": [
    "business['RestaurantsDelivery'] = business['RestaurantsDelivery'].astype(str).map({'True': 1, 'False': 0, 'None': 0}).fillna(0).astype(int)"
   ]
  },
  {
   "cell_type": "markdown",
   "metadata": {},
   "source": [
    "Analisis de `RestaurantsAttire`"
   ]
  },
  {
   "cell_type": "code",
   "execution_count": 25,
   "metadata": {},
   "outputs": [
    {
     "data": {
      "text/plain": [
       "RestaurantsAttire\n",
       "u'casual'    3627\n",
       "'casual'     2568\n",
       "u'dressy'      54\n",
       "'dressy'       30\n",
       "None            6\n",
       "'formal'        6\n",
       "u'formal'       5\n",
       "Name: count, dtype: int64"
      ]
     },
     "execution_count": 25,
     "metadata": {},
     "output_type": "execute_result"
    }
   ],
   "source": [
    "business['RestaurantsAttire'].value_counts()"
   ]
  },
  {
   "cell_type": "code",
   "execution_count": 26,
   "metadata": {},
   "outputs": [
    {
     "name": "stdout",
     "output_type": "stream",
     "text": [
      "['casual' 'nan' 'dressy' 'None' 'formal']\n"
     ]
    }
   ],
   "source": [
    "business[\"RestaurantsAttire\"] = business[\"RestaurantsAttire\"].astype(str).str.replace(\"u'\", \"\").str.replace(\"'\", \"\").str.strip()\n",
    "print(business[\"RestaurantsAttire\"].unique())  # Para verificar la limpieza"
   ]
  },
  {
   "cell_type": "code",
   "execution_count": 27,
   "metadata": {},
   "outputs": [],
   "source": [
    "business[\"RestaurantsAttire\"] = business[\"RestaurantsAttire\"].replace(['nan', 'None'], None)"
   ]
  },
  {
   "cell_type": "code",
   "execution_count": 28,
   "metadata": {},
   "outputs": [
    {
     "name": "stdout",
     "output_type": "stream",
     "text": [
      "Cantidad de categorías únicas en 'RestaurantsAttire': 3\n",
      "Categorías encontradas: {'dressy', 'formal', 'casual'}\n"
     ]
    }
   ],
   "source": [
    "# Extraer y listar las categorías únicas correctamente\n",
    "restaurantsattire_list = set()\n",
    "\n",
    "for row in business[\"RestaurantsAttire\"].dropna():\n",
    "    if isinstance(row, str):  # Si es un string, agregarlo directamente\n",
    "        restaurantsattire_list.add(row)\n",
    "\n",
    "print(f\"Cantidad de categorías únicas en 'RestaurantsAttire': {len(restaurantsattire_list)}\")\n",
    "print(f\"Categorías encontradas: {restaurantsattire_list}\")"
   ]
  },
  {
   "cell_type": "code",
   "execution_count": 29,
   "metadata": {},
   "outputs": [],
   "source": [
    "# Convertir NaN a string vacío para evitar errores\n",
    "business[\"RestaurantsAttire\"] = business[\"RestaurantsAttire\"].fillna(\"\")\n",
    "\n",
    "# Crear columnas binarias para cada categoría encontrada\n",
    "for category in restaurantsattire_list:\n",
    "    business[f\"RestaurantsAttire_{category.replace(' ', '_')}\"] = business[\"RestaurantsAttire\"].apply(lambda x: 1 if x == category else 0)\n",
    "\n",
    "# Eliminar la columna original\n",
    "business.drop(columns=[\"RestaurantsAttire\"], inplace=True)"
   ]
  },
  {
   "cell_type": "markdown",
   "metadata": {},
   "source": [
    "Analizamos `BusinessAcceptsCreditCards`"
   ]
  },
  {
   "cell_type": "code",
   "execution_count": 30,
   "metadata": {},
   "outputs": [
    {
     "data": {
      "text/plain": [
       "BusinessAcceptsCreditCards\n",
       "True     9668\n",
       "False     148\n",
       "None        6\n",
       "Name: count, dtype: int64"
      ]
     },
     "execution_count": 30,
     "metadata": {},
     "output_type": "execute_result"
    }
   ],
   "source": [
    "business['BusinessAcceptsCreditCards'].value_counts()"
   ]
  },
  {
   "cell_type": "code",
   "execution_count": 31,
   "metadata": {},
   "outputs": [],
   "source": [
    "business['BusinessAcceptsCreditCards'] = business['BusinessAcceptsCreditCards'].astype(str).map({'True': 1, 'False': 0, 'None': 0}).fillna(0).astype(int)"
   ]
  },
  {
   "cell_type": "markdown",
   "metadata": {},
   "source": [
    "Analizamos `RestaurantsTakeOut`"
   ]
  },
  {
   "cell_type": "code",
   "execution_count": 32,
   "metadata": {},
   "outputs": [
    {
     "data": {
      "text/plain": [
       "RestaurantsTakeOut\n",
       "True     8864\n",
       "False     685\n",
       "None      280\n",
       "Name: count, dtype: int64"
      ]
     },
     "execution_count": 32,
     "metadata": {},
     "output_type": "execute_result"
    }
   ],
   "source": [
    "business['RestaurantsTakeOut'].value_counts()"
   ]
  },
  {
   "cell_type": "code",
   "execution_count": 33,
   "metadata": {},
   "outputs": [],
   "source": [
    "business['RestaurantsTakeOut'] = business['RestaurantsTakeOut'].astype(str).map({'True': 1, 'False': 0, 'None': 0}).fillna(0).astype(int)"
   ]
  },
  {
   "cell_type": "markdown",
   "metadata": {},
   "source": [
    "Analizamos `Caters`"
   ]
  },
  {
   "cell_type": "code",
   "execution_count": 34,
   "metadata": {},
   "outputs": [
    {
     "data": {
      "text/plain": [
       "Caters\n",
       "True     4079\n",
       "False    2710\n",
       "None        6\n",
       "Name: count, dtype: int64"
      ]
     },
     "execution_count": 34,
     "metadata": {},
     "output_type": "execute_result"
    }
   ],
   "source": [
    "business['Caters'].value_counts()"
   ]
  },
  {
   "cell_type": "code",
   "execution_count": 35,
   "metadata": {},
   "outputs": [],
   "source": [
    "business['Caters'] = business['Caters'].astype(str).map({'True': 1, 'False': 0, 'None': 0}).fillna(0).astype(int)"
   ]
  },
  {
   "cell_type": "markdown",
   "metadata": {},
   "source": [
    "Analizamos `NoiseLevel`                 "
   ]
  },
  {
   "cell_type": "code",
   "execution_count": 36,
   "metadata": {},
   "outputs": [
    {
     "data": {
      "text/plain": [
       "NoiseLevel\n",
       "u'average'      3151\n",
       "u'quiet'        1029\n",
       "'average'        975\n",
       "u'loud'          267\n",
       "'quiet'          264\n",
       "u'very_loud'      99\n",
       "'loud'            73\n",
       "'very_loud'       15\n",
       "None               3\n",
       "Name: count, dtype: int64"
      ]
     },
     "execution_count": 36,
     "metadata": {},
     "output_type": "execute_result"
    }
   ],
   "source": [
    "business['NoiseLevel'].value_counts()"
   ]
  },
  {
   "cell_type": "code",
   "execution_count": 37,
   "metadata": {},
   "outputs": [
    {
     "name": "stdout",
     "output_type": "stream",
     "text": [
      "['average' 'nan' 'quiet' 'loud' 'very_loud' 'None']\n"
     ]
    }
   ],
   "source": [
    "business[\"NoiseLevel\"] = business[\"NoiseLevel\"].astype(str).str.replace(\"u'\", \"\").str.replace(\"'\", \"\").str.strip()\n",
    "print(business[\"NoiseLevel\"].unique())  # Para verificar la limpieza"
   ]
  },
  {
   "cell_type": "code",
   "execution_count": 38,
   "metadata": {},
   "outputs": [],
   "source": [
    "business[\"NoiseLevel\"] = business[\"NoiseLevel\"].replace(['nan', 'None'], None)"
   ]
  },
  {
   "cell_type": "code",
   "execution_count": 39,
   "metadata": {},
   "outputs": [
    {
     "name": "stdout",
     "output_type": "stream",
     "text": [
      "Cantidad de categorías únicas en 'NoiseLevel': 4\n",
      "Categorías encontradas: {'quiet', 'very_loud', 'average', 'loud'}\n"
     ]
    }
   ],
   "source": [
    "# Extraer y listar las categorías únicas correctamente\n",
    "noiselevel_list = set()\n",
    "\n",
    "for row in business[\"NoiseLevel\"].dropna():\n",
    "    if isinstance(row, str):  # Si es un string, agregarlo directamente\n",
    "        noiselevel_list.add(row)\n",
    "\n",
    "print(f\"Cantidad de categorías únicas en 'NoiseLevel': {len(noiselevel_list)}\")\n",
    "print(f\"Categorías encontradas: {noiselevel_list}\")"
   ]
  },
  {
   "cell_type": "code",
   "execution_count": 40,
   "metadata": {},
   "outputs": [],
   "source": [
    "# Convertir NaN a string vacío para evitar errores\n",
    "business[\"NoiseLevel\"] = business[\"NoiseLevel\"].fillna(\"\")\n",
    "\n",
    "# Crear columnas binarias para cada categoría encontrada\n",
    "for category in noiselevel_list:\n",
    "    business[f\"NoiseLevel_{category.replace(' ', '_')}\"] = business[\"NoiseLevel\"].apply(lambda x: 1 if x == category else 0)\n",
    "\n",
    "# Eliminar la columna original\n",
    "business.drop(columns=[\"NoiseLevel\"], inplace=True)"
   ]
  },
  {
   "cell_type": "markdown",
   "metadata": {},
   "source": [
    "Analizamos `Ambience`"
   ]
  },
  {
   "cell_type": "code",
   "execution_count": 41,
   "metadata": {},
   "outputs": [
    {
     "data": {
      "text/plain": [
       "Ambience\n",
       "{'touristy': False, 'hipster': False, 'romantic': False, 'divey': False, 'intimate': False, 'trendy': False, 'upscale': False, 'classy': False, 'casual': False}         1256\n",
       "{'romantic': False, 'intimate': False, 'classy': False, 'hipster': False, 'divey': False, 'touristy': False, 'trendy': False, 'upscale': False, 'casual': False}          848\n",
       "{'romantic': False, 'intimate': False, 'classy': False, 'hipster': False, 'divey': False, 'touristy': False, 'trendy': False, 'upscale': False, 'casual': True}           694\n",
       "{'romantic': False, 'intimate': False, 'touristy': False, 'hipster': False, 'divey': False, 'classy': False, 'trendy': False, 'upscale': False, 'casual': True}           580\n",
       "{'romantic': False, 'intimate': False, 'touristy': False, 'hipster': False, 'divey': False, 'classy': False, 'trendy': False, 'upscale': False, 'casual': False}          478\n",
       "                                                                                                                                                                         ... \n",
       "{'touristy': False, 'hipster': True, 'romantic': False, 'divey': False, 'intimate': None, 'trendy': True, 'upscale': False, 'classy': True, 'casual': True}                 1\n",
       "{u'divey': None, u'hipster': None, u'casual': True, u'touristy': None, u'trendy': True, u'intimate': None, u'romantic': True, u'classy': None, u'upscale': None}            1\n",
       "{u'divey': False, u'hipster': False, u'casual': True, u'touristy': None, u'trendy': False, u'intimate': None, u'romantic': False, u'classy': False, u'upscale': None}       1\n",
       "{'romantic': False, 'intimate': False, 'classy': False, 'hipster': False, 'divey': False, 'touristy': True, 'trendy': False, 'upscale': False, 'casual': True}              1\n",
       "{'touristy': False, 'hipster': None, 'romantic': False, 'divey': None, 'intimate': None, 'trendy': True, 'upscale': False, 'classy': False, 'casual': True}                 1\n",
       "Name: count, Length: 820, dtype: int64"
      ]
     },
     "execution_count": 41,
     "metadata": {},
     "output_type": "execute_result"
    }
   ],
   "source": [
    "business['Ambience'].value_counts()"
   ]
  },
  {
   "cell_type": "code",
   "execution_count": 42,
   "metadata": {},
   "outputs": [
    {
     "name": "stdout",
     "output_type": "stream",
     "text": [
      "Cantidad de categorías únicas en 'Ambience': 9\n",
      "Categorías encontradas: {'touristy', 'intimate', 'trendy', 'divey', 'casual', 'romantic', 'classy', 'hipster', 'upscale'}\n"
     ]
    }
   ],
   "source": [
    "# Extraer y listar las categorías únicas\n",
    "ambience_list = set()\n",
    "\n",
    "for row in business[\"Ambience\"].dropna():\n",
    "    if isinstance(row, dict):  # Si ya es un diccionario\n",
    "        ambience_list.update(row.keys())\n",
    "    elif isinstance(row, str):  # Si es un string que representa un diccionario\n",
    "        try:\n",
    "            categories = ast.literal_eval(row)  # Convertir string a dict\n",
    "            if isinstance(categories, dict):\n",
    "                ambience_list.update(categories.keys())  # Agregar claves únicas\n",
    "        except:\n",
    "            print(f\"Error procesando: {row}\")  # Para depuración\n",
    "\n",
    "print(f\"Cantidad de categorías únicas en 'Ambience': {len(ambience_list)}\")\n",
    "print(f\"Categorías encontradas: {ambience_list}\")"
   ]
  },
  {
   "cell_type": "code",
   "execution_count": 43,
   "metadata": {},
   "outputs": [],
   "source": [
    "# Convertir strings a diccionarios si es necesario\n",
    "business[\"Ambience\"] = business[\"Ambience\"].dropna().apply(lambda x: ast.literal_eval(x) if isinstance(x, str) else x)\n",
    "\n",
    "# Crear columnas dummies\n",
    "for category in ambience_list:\n",
    "    business[f\"Ambience_{category}\"] = business[\"Ambience\"].apply(lambda x: 1 if isinstance(x, dict) and x.get(category, False) else 0)\n",
    "\n",
    "# Eliminar la columna original\n",
    "business.drop(columns=[\"Ambience\"], inplace=True)"
   ]
  },
  {
   "cell_type": "markdown",
   "metadata": {},
   "source": [
    "Analizamos `GoodForKids`"
   ]
  },
  {
   "cell_type": "code",
   "execution_count": 44,
   "metadata": {},
   "outputs": [
    {
     "data": {
      "text/plain": [
       "GoodForKids\n",
       "True     6113\n",
       "False     718\n",
       "None        2\n",
       "Name: count, dtype: int64"
      ]
     },
     "execution_count": 44,
     "metadata": {},
     "output_type": "execute_result"
    }
   ],
   "source": [
    "business['GoodForKids'].value_counts()"
   ]
  },
  {
   "cell_type": "code",
   "execution_count": 45,
   "metadata": {},
   "outputs": [],
   "source": [
    "business['GoodForKids'] = business['GoodForKids'].astype(str).map({'True': 1, 'False': 0, 'None': 0}).fillna(0).astype(int)"
   ]
  },
  {
   "cell_type": "markdown",
   "metadata": {},
   "source": [
    "Analizamos `BusinessAcceptsBitcoin`\n"
   ]
  },
  {
   "cell_type": "code",
   "execution_count": 46,
   "metadata": {},
   "outputs": [
    {
     "data": {
      "text/plain": [
       "BusinessAcceptsBitcoin\n",
       "False    1376\n",
       "True       34\n",
       "Name: count, dtype: int64"
      ]
     },
     "execution_count": 46,
     "metadata": {},
     "output_type": "execute_result"
    }
   ],
   "source": [
    "business['BusinessAcceptsBitcoin'].value_counts()"
   ]
  },
  {
   "cell_type": "code",
   "execution_count": 47,
   "metadata": {},
   "outputs": [],
   "source": [
    "business['BusinessAcceptsBitcoin'] = business['BusinessAcceptsBitcoin'].astype(str).map({'True': 1, 'False': 0, 'None': 0}).fillna(0).astype(int)"
   ]
  },
  {
   "cell_type": "markdown",
   "metadata": {},
   "source": [
    "Analizamos `BusinessParking`\n"
   ]
  },
  {
   "cell_type": "code",
   "execution_count": 48,
   "metadata": {},
   "outputs": [
    {
     "data": {
      "text/plain": [
       "BusinessParking\n",
       "{'garage': False, 'street': False, 'validated': False, 'lot': True, 'valet': False}        4292\n",
       "{'garage': False, 'street': False, 'validated': False, 'lot': False, 'valet': False}       2205\n",
       "{'garage': False, 'street': True, 'validated': False, 'lot': False, 'valet': False}         527\n",
       "{'garage': False, 'street': True, 'validated': False, 'lot': True, 'valet': False}          392\n",
       "None                                                                                        162\n",
       "                                                                                           ... \n",
       "{u'valet': False, u'garage': True, u'street': True, u'lot': None, u'validated': False}        1\n",
       "{'garage': True, 'street': True, 'validated': None, 'lot': None, 'valet': False}              1\n",
       "{u'valet': False, u'garage': True, u'street': False, u'lot': None, u'validated': False}       1\n",
       "{}                                                                                            1\n",
       "{u'valet': False, u'garage': True, u'street': True, u'lot': False, u'validated': True}        1\n",
       "Name: count, Length: 131, dtype: int64"
      ]
     },
     "execution_count": 48,
     "metadata": {},
     "output_type": "execute_result"
    }
   ],
   "source": [
    "business['BusinessParking'].value_counts()"
   ]
  },
  {
   "cell_type": "code",
   "execution_count": 49,
   "metadata": {},
   "outputs": [
    {
     "name": "stdout",
     "output_type": "stream",
     "text": [
      "Cantidad de categorías únicas en 'BusinessParking': 5\n",
      "Categorías encontradas: {'validated', 'garage', 'street', 'valet', 'lot'}\n"
     ]
    }
   ],
   "source": [
    "# Extraer y listar las categorías únicas\n",
    "businessparking_list = set()\n",
    "\n",
    "for row in business[\"BusinessParking\"].dropna():\n",
    "    if isinstance(row, dict):  # Si ya es un diccionario\n",
    "        businessparking_list.update(row.keys())\n",
    "    elif isinstance(row, str):  # Si es un string que representa un diccionario\n",
    "        try:\n",
    "            categories = ast.literal_eval(row)  # Convertir string a dict\n",
    "            if isinstance(categories, dict):\n",
    "                businessparking_list.update(categories.keys())  # Agregar claves únicas\n",
    "        except:\n",
    "            print(f\"Error procesando: {row}\")  # Para depuración\n",
    "\n",
    "print(f\"Cantidad de categorías únicas en 'BusinessParking': {len(businessparking_list)}\")\n",
    "print(f\"Categorías encontradas: {businessparking_list}\")"
   ]
  },
  {
   "cell_type": "code",
   "execution_count": 50,
   "metadata": {},
   "outputs": [],
   "source": [
    "# Convertir strings a diccionarios si es necesario\n",
    "business[\"BusinessParking\"] = business[\"BusinessParking\"].dropna().apply(lambda x: ast.literal_eval(x) if isinstance(x, str) else x)\n",
    "\n",
    "# Crear columnas dummies\n",
    "for category in businessparking_list:\n",
    "    business[f\"BusinessParking_{category}\"] = business[\"BusinessParking\"].apply(lambda x: 1 if isinstance(x, dict) and x.get(category, False) else 0)\n",
    "\n",
    "# Eliminar la columna original\n",
    "business.drop(columns=[\"BusinessParking\"], inplace=True)"
   ]
  },
  {
   "cell_type": "markdown",
   "metadata": {},
   "source": [
    "Analizamos `BikeParking`"
   ]
  },
  {
   "cell_type": "code",
   "execution_count": 51,
   "metadata": {},
   "outputs": [
    {
     "data": {
      "text/plain": [
       "BikeParking\n",
       "True     5851\n",
       "False    1766\n",
       "None        5\n",
       "Name: count, dtype: int64"
      ]
     },
     "execution_count": 51,
     "metadata": {},
     "output_type": "execute_result"
    }
   ],
   "source": [
    "business['BikeParking'].value_counts()"
   ]
  },
  {
   "cell_type": "code",
   "execution_count": 52,
   "metadata": {},
   "outputs": [],
   "source": [
    "business['BikeParking'] = business['BikeParking'].astype(str).map({'True': 1, 'False': 0, 'None': 0}).fillna(0).astype(int)"
   ]
  },
  {
   "cell_type": "markdown",
   "metadata": {},
   "source": [
    "Analizamos `RestaurantsTableService`"
   ]
  },
  {
   "cell_type": "code",
   "execution_count": 53,
   "metadata": {},
   "outputs": [
    {
     "data": {
      "text/plain": [
       "RestaurantsTableService\n",
       "True     2423\n",
       "False    1247\n",
       "None        2\n",
       "Name: count, dtype: int64"
      ]
     },
     "execution_count": 53,
     "metadata": {},
     "output_type": "execute_result"
    }
   ],
   "source": [
    "business['RestaurantsTableService'].value_counts()"
   ]
  },
  {
   "cell_type": "code",
   "execution_count": 54,
   "metadata": {},
   "outputs": [],
   "source": [
    "business['RestaurantsTableService'] = business['RestaurantsTableService'].astype(str).map({'True': 1, 'False': 0, 'None': 0}).fillna(0).astype(int)"
   ]
  },
  {
   "cell_type": "markdown",
   "metadata": {},
   "source": [
    "Analizamos `Alcohol`"
   ]
  },
  {
   "cell_type": "code",
   "execution_count": 55,
   "metadata": {},
   "outputs": [
    {
     "data": {
      "text/plain": [
       "Alcohol\n",
       "u'none'             2119\n",
       "u'full_bar'         1656\n",
       "u'beer_and_wine'    1334\n",
       "'none'               890\n",
       "'beer_and_wine'      377\n",
       "'full_bar'           362\n",
       "None                   4\n",
       "Name: count, dtype: int64"
      ]
     },
     "execution_count": 55,
     "metadata": {},
     "output_type": "execute_result"
    }
   ],
   "source": [
    "business['Alcohol'].value_counts()"
   ]
  },
  {
   "cell_type": "code",
   "execution_count": 56,
   "metadata": {},
   "outputs": [
    {
     "name": "stdout",
     "output_type": "stream",
     "text": [
      "['none' 'nan' 'full_bar' 'beer_and_wine' 'None']\n"
     ]
    }
   ],
   "source": [
    "business[\"Alcohol\"] = business[\"Alcohol\"].astype(str).str.replace(\"u'\", \"\").str.replace(\"'\", \"\").str.strip()\n",
    "print(business[\"Alcohol\"].unique())  # Para verificar la limpieza"
   ]
  },
  {
   "cell_type": "code",
   "execution_count": 57,
   "metadata": {},
   "outputs": [],
   "source": [
    "# Crear la columna `alcoholic_beverages` que coincide con la tabla de Google\n",
    "business[\"alcoholic_beverages\"] = business[\"Alcohol\"].apply(lambda x: 1 if x in [\"full_bar\", \"beer_and_wine\"] else 0)\n",
    "\n",
    "# Eliminar la columna original\n",
    "business.drop(columns=[\"Alcohol\"], inplace=True)"
   ]
  },
  {
   "cell_type": "markdown",
   "metadata": {},
   "source": [
    "Analizamos `RestaurantsReservations`"
   ]
  },
  {
   "cell_type": "code",
   "execution_count": 58,
   "metadata": {},
   "outputs": [
    {
     "data": {
      "text/plain": [
       "RestaurantsReservations\n",
       "False    4918\n",
       "True     2245\n",
       "None       51\n",
       "Name: count, dtype: int64"
      ]
     },
     "execution_count": 58,
     "metadata": {},
     "output_type": "execute_result"
    }
   ],
   "source": [
    "business['RestaurantsReservations'].value_counts()"
   ]
  },
  {
   "cell_type": "code",
   "execution_count": 59,
   "metadata": {},
   "outputs": [],
   "source": [
    "business['RestaurantsReservations'] = business['RestaurantsReservations'].astype(str).map({'True': 1, 'False': 0, 'None': 0}).fillna(0).astype(int)"
   ]
  },
  {
   "cell_type": "markdown",
   "metadata": {},
   "source": [
    "Analizamos `GoodForMeal`"
   ]
  },
  {
   "cell_type": "code",
   "execution_count": 60,
   "metadata": {},
   "outputs": [
    {
     "data": {
      "text/plain": [
       "GoodForMeal\n",
       "{'dessert': False, 'latenight': False, 'lunch': False, 'dinner': False, 'brunch': False, 'breakfast': False}     1688\n",
       "{'dessert': False, 'latenight': False, 'lunch': True, 'dinner': True, 'brunch': False, 'breakfast': False}        628\n",
       "{'dessert': False, 'latenight': False, 'lunch': True, 'dinner': False, 'brunch': False, 'breakfast': False}       378\n",
       "{'dessert': False, 'latenight': False, 'lunch': False, 'dinner': True, 'brunch': False, 'breakfast': False}       161\n",
       "{'dessert': None, 'latenight': False, 'lunch': True, 'dinner': True, 'brunch': False, 'breakfast': False}         137\n",
       "                                                                                                                 ... \n",
       "{'dessert': False, 'latenight': None, 'lunch': None, 'dinner': None, 'brunch': False, 'breakfast': False}           1\n",
       "{'dessert': None, 'latenight': None, 'lunch': True, 'dinner': False, 'brunch': None, 'breakfast': True}             1\n",
       "{u'breakfast': True, u'brunch': None, u'lunch': True, u'dinner': None, u'latenight': False, u'dessert': None}       1\n",
       "{u'breakfast': False, u'brunch': None, u'lunch': True, u'dinner': True, u'latenight': True, u'dessert': None}       1\n",
       "{'dessert': False, 'latenight': True, 'lunch': False, 'dinner': False, 'brunch': True, 'breakfast': False}          1\n",
       "Name: count, Length: 280, dtype: int64"
      ]
     },
     "execution_count": 60,
     "metadata": {},
     "output_type": "execute_result"
    }
   ],
   "source": [
    "business['GoodForMeal'].value_counts()"
   ]
  },
  {
   "cell_type": "code",
   "execution_count": 61,
   "metadata": {},
   "outputs": [
    {
     "name": "stdout",
     "output_type": "stream",
     "text": [
      "Cantidad de categorías únicas en 'GoodForMeal': 6\n",
      "Categorías encontradas: {'dessert', 'brunch', 'lunch', 'breakfast', 'latenight', 'dinner'}\n"
     ]
    }
   ],
   "source": [
    "# Extraer y listar las categorías únicas\n",
    "goodformeal_list = set()\n",
    "\n",
    "for row in business[\"GoodForMeal\"].dropna():\n",
    "    if isinstance(row, dict):  # Si ya es un diccionario\n",
    "        goodformeal_list.update(row.keys())\n",
    "    elif isinstance(row, str):  # Si es un string que representa un diccionario\n",
    "        try:\n",
    "            categories = ast.literal_eval(row)  # Convertir string a dict\n",
    "            if isinstance(categories, dict):\n",
    "                goodformeal_list.update(categories.keys())  # Agregar claves únicas\n",
    "        except:\n",
    "            print(f\"Error procesando: {row}\")  # Para depuración\n",
    "\n",
    "print(f\"Cantidad de categorías únicas en 'GoodForMeal': {len(goodformeal_list)}\")\n",
    "print(f\"Categorías encontradas: {goodformeal_list}\")"
   ]
  },
  {
   "cell_type": "code",
   "execution_count": 62,
   "metadata": {},
   "outputs": [],
   "source": [
    "# Convertir strings a diccionarios si es necesario\n",
    "business[\"GoodForMeal\"] = business[\"GoodForMeal\"].dropna().apply(lambda x: ast.literal_eval(x) if isinstance(x, str) else x)\n",
    "\n",
    "# Crear columnas dummies\n",
    "for category in goodformeal_list:\n",
    "    business[f\"GoodForMeal_{category}\"] = business[\"GoodForMeal\"].apply(lambda x: 1 if isinstance(x, dict) and x.get(category, False) else 0)\n",
    "\n",
    "# Eliminar la columna original\n",
    "business.drop(columns=[\"GoodForMeal\"], inplace=True)"
   ]
  },
  {
   "cell_type": "markdown",
   "metadata": {},
   "source": [
    "Analizamos `HasTV`"
   ]
  },
  {
   "cell_type": "code",
   "execution_count": 63,
   "metadata": {},
   "outputs": [
    {
     "data": {
      "text/plain": [
       "HasTV\n",
       "True     5719\n",
       "False    1473\n",
       "None        5\n",
       "Name: count, dtype: int64"
      ]
     },
     "execution_count": 63,
     "metadata": {},
     "output_type": "execute_result"
    }
   ],
   "source": [
    "business['HasTV'].value_counts()"
   ]
  },
  {
   "cell_type": "code",
   "execution_count": 64,
   "metadata": {},
   "outputs": [],
   "source": [
    "business['HasTV'] = business['HasTV'].astype(str).map({'True': 1, 'False': 0, 'None': 0}).fillna(0).astype(int)"
   ]
  },
  {
   "cell_type": "markdown",
   "metadata": {},
   "source": [
    "Analizamos `WheelchairAccessible`\n"
   ]
  },
  {
   "cell_type": "code",
   "execution_count": 65,
   "metadata": {},
   "outputs": [
    {
     "data": {
      "text/plain": [
       "WheelchairAccessible\n",
       "True     2853\n",
       "False     173\n",
       "None        2\n",
       "Name: count, dtype: int64"
      ]
     },
     "execution_count": 65,
     "metadata": {},
     "output_type": "execute_result"
    }
   ],
   "source": [
    "business['WheelchairAccessible'].value_counts()"
   ]
  },
  {
   "cell_type": "code",
   "execution_count": 66,
   "metadata": {},
   "outputs": [],
   "source": [
    "business['WheelchairAccessible'] = business['WheelchairAccessible'].astype(str).map({'True': 1, 'False': 0, 'None': 0}).fillna(0).astype(int)"
   ]
  },
  {
   "cell_type": "markdown",
   "metadata": {},
   "source": [
    "Analizamos `BestNights`\n"
   ]
  },
  {
   "cell_type": "code",
   "execution_count": 67,
   "metadata": {},
   "outputs": [
    {
     "data": {
      "text/plain": [
       "BestNights\n",
       "{'monday': False, 'tuesday': False, 'friday': False, 'wednesday': False, 'thursday': False, 'sunday': False, 'saturday': False}        153\n",
       "{'monday': False, 'tuesday': False, 'friday': True, 'wednesday': False, 'thursday': True, 'sunday': False, 'saturday': True}            90\n",
       "{'monday': False, 'tuesday': False, 'friday': True, 'wednesday': False, 'thursday': False, 'sunday': True, 'saturday': True}            58\n",
       "{'monday': False, 'tuesday': False, 'friday': True, 'wednesday': False, 'thursday': False, 'sunday': False, 'saturday': True}           57\n",
       "{'monday': False, 'tuesday': False, 'friday': True, 'wednesday': False, 'thursday': False, 'sunday': False, 'saturday': False}          46\n",
       "                                                                                                                                      ... \n",
       "{u'monday': False, u'tuesday': True, u'wednesday': False, u'thursday': False, u'friday': True, u'saturday': True, u'sunday': False}      1\n",
       "{u'monday': True, u'tuesday': True, u'wednesday': False, u'thursday': False, u'friday': True, u'saturday': False, u'sunday': False}      1\n",
       "{u'monday': True, u'tuesday': False, u'wednesday': False, u'thursday': False, u'friday': True, u'saturday': True, u'sunday': False}      1\n",
       "{u'monday': False, u'tuesday': False, u'wednesday': True, u'thursday': True, u'friday': False, u'saturday': True, u'sunday': False}      1\n",
       "{'monday': False, 'tuesday': True, 'friday': False, 'wednesday': False, 'thursday': False, 'sunday': True, 'saturday': False}            1\n",
       "Name: count, Length: 86, dtype: int64"
      ]
     },
     "execution_count": 67,
     "metadata": {},
     "output_type": "execute_result"
    }
   ],
   "source": [
    "business['BestNights'].value_counts()"
   ]
  },
  {
   "cell_type": "code",
   "execution_count": 68,
   "metadata": {},
   "outputs": [
    {
     "name": "stdout",
     "output_type": "stream",
     "text": [
      "Cantidad de categorías únicas en 'BestNights': 7\n",
      "Categorías encontradas: {'monday', 'tuesday', 'saturday', 'sunday', 'friday', 'thursday', 'wednesday'}\n"
     ]
    }
   ],
   "source": [
    "# Extraer y listar las categorías únicas\n",
    "bestnights_list = set()\n",
    "\n",
    "for row in business[\"BestNights\"].dropna():\n",
    "    if isinstance(row, dict):  # Si ya es un diccionario\n",
    "        bestnights_list.update(row.keys())\n",
    "    elif isinstance(row, str):  # Si es un string que representa un diccionario\n",
    "        try:\n",
    "            categories = ast.literal_eval(row)  # Convertir string a dict\n",
    "            if isinstance(categories, dict):\n",
    "                bestnights_list.update(categories.keys())  # Agregar claves únicas\n",
    "        except:\n",
    "            print(f\"Error procesando: {row}\")  # Para depuración\n",
    "\n",
    "print(f\"Cantidad de categorías únicas en 'BestNights': {len(bestnights_list)}\")\n",
    "print(f\"Categorías encontradas: {bestnights_list}\")"
   ]
  },
  {
   "cell_type": "code",
   "execution_count": 69,
   "metadata": {},
   "outputs": [],
   "source": [
    "# Convertir strings a diccionarios si es necesario\n",
    "business[\"BestNights\"] = business[\"BestNights\"].dropna().apply(lambda x: ast.literal_eval(x) if isinstance(x, str) else x)\n",
    "\n",
    "# Crear columnas dummies\n",
    "for category in bestnights_list:\n",
    "    business[f\"BestNights_{category}\"] = business[\"BestNights\"].apply(lambda x: 1 if isinstance(x, dict) and x.get(category, False) else 0)\n",
    "\n",
    "# Eliminar la columna original\n",
    "business.drop(columns=[\"BestNights\"], inplace=True)"
   ]
  },
  {
   "cell_type": "markdown",
   "metadata": {},
   "source": [
    "Analizamos `ByAppointmentOnly`\n"
   ]
  },
  {
   "cell_type": "code",
   "execution_count": 70,
   "metadata": {},
   "outputs": [
    {
     "data": {
      "text/plain": [
       "ByAppointmentOnly\n",
       "False    826\n",
       "True      42\n",
       "None       1\n",
       "Name: count, dtype: int64"
      ]
     },
     "execution_count": 70,
     "metadata": {},
     "output_type": "execute_result"
    }
   ],
   "source": [
    "business['ByAppointmentOnly'].value_counts()"
   ]
  },
  {
   "cell_type": "code",
   "execution_count": 71,
   "metadata": {},
   "outputs": [],
   "source": [
    "business['ByAppointmentOnly'] = business['ByAppointmentOnly'].astype(str).map({'True': 1, 'False': 0, 'None': 0}).fillna(0).astype(int)"
   ]
  },
  {
   "cell_type": "markdown",
   "metadata": {},
   "source": [
    "Analizamos `GoodForDancing`\n"
   ]
  },
  {
   "cell_type": "code",
   "execution_count": 72,
   "metadata": {},
   "outputs": [
    {
     "data": {
      "text/plain": [
       "GoodForDancing\n",
       "False    561\n",
       "True     119\n",
       "Name: count, dtype: int64"
      ]
     },
     "execution_count": 72,
     "metadata": {},
     "output_type": "execute_result"
    }
   ],
   "source": [
    "business['GoodForDancing'].value_counts()"
   ]
  },
  {
   "cell_type": "code",
   "execution_count": 73,
   "metadata": {},
   "outputs": [],
   "source": [
    "business['GoodForDancing'] = business['GoodForDancing'].astype(str).map({'True': 1, 'False': 0, 'None': 0}).fillna(0).astype(int)"
   ]
  },
  {
   "cell_type": "markdown",
   "metadata": {},
   "source": [
    "Analizamos `HappyHour`\n"
   ]
  },
  {
   "cell_type": "code",
   "execution_count": 74,
   "metadata": {},
   "outputs": [
    {
     "data": {
      "text/plain": [
       "HappyHour\n",
       "True     1623\n",
       "False     833\n",
       "Name: count, dtype: int64"
      ]
     },
     "execution_count": 74,
     "metadata": {},
     "output_type": "execute_result"
    }
   ],
   "source": [
    "business['HappyHour'].value_counts()"
   ]
  },
  {
   "cell_type": "code",
   "execution_count": 75,
   "metadata": {},
   "outputs": [],
   "source": [
    "business['HappyHour'] = business['HappyHour'].astype(str).map({'True': 1, 'False': 0, 'None': 0}).fillna(0).astype(int)"
   ]
  },
  {
   "cell_type": "markdown",
   "metadata": {},
   "source": [
    "Analizamos `Smoking`\n"
   ]
  },
  {
   "cell_type": "code",
   "execution_count": 76,
   "metadata": {},
   "outputs": [
    {
     "data": {
      "text/plain": [
       "Smoking\n",
       "u'outdoor'    375\n",
       "u'no'         220\n",
       "u'yes'         36\n",
       "'no'            4\n",
       "'outdoor'       1\n",
       "Name: count, dtype: int64"
      ]
     },
     "execution_count": 76,
     "metadata": {},
     "output_type": "execute_result"
    }
   ],
   "source": [
    "business['Smoking'].value_counts()"
   ]
  },
  {
   "cell_type": "code",
   "execution_count": 77,
   "metadata": {},
   "outputs": [
    {
     "name": "stdout",
     "output_type": "stream",
     "text": [
      "['nan' 'outdoor' 'no' 'yes']\n"
     ]
    }
   ],
   "source": [
    "business[\"Smoking\"] = business[\"Smoking\"].astype(str).str.replace(\"u'\", \"\").str.replace(\"'\", \"\").str.strip()\n",
    "print(business[\"Smoking\"].unique())  # Para verificar la limpieza"
   ]
  },
  {
   "cell_type": "code",
   "execution_count": 78,
   "metadata": {},
   "outputs": [],
   "source": [
    "business[\"smoking_allowed\"] = business[\"Smoking\"].apply(lambda x: 1 if x in [\"yes\", \"outdoor\"] else 0)\n",
    "\n",
    "# Eliminar la columna original\n",
    "business.drop(columns=[\"Smoking\"], inplace=True)"
   ]
  },
  {
   "cell_type": "markdown",
   "metadata": {},
   "source": [
    "Analizamos `CoatCheck`"
   ]
  },
  {
   "cell_type": "code",
   "execution_count": 79,
   "metadata": {},
   "outputs": [
    {
     "data": {
      "text/plain": [
       "CoatCheck\n",
       "False    833\n",
       "True      12\n",
       "Name: count, dtype: int64"
      ]
     },
     "execution_count": 79,
     "metadata": {},
     "output_type": "execute_result"
    }
   ],
   "source": [
    "business['CoatCheck'].value_counts()"
   ]
  },
  {
   "cell_type": "code",
   "execution_count": 80,
   "metadata": {},
   "outputs": [],
   "source": [
    "business['CoatCheck'] = business['CoatCheck'].astype(str).map({'True': 1, 'False': 0, 'None': 0}).fillna(0).astype(int)"
   ]
  },
  {
   "cell_type": "markdown",
   "metadata": {},
   "source": [
    "Analizamos `Music`\n"
   ]
  },
  {
   "cell_type": "code",
   "execution_count": 81,
   "metadata": {},
   "outputs": [
    {
     "data": {
      "text/plain": [
       "Music\n",
       "{'dj': False, 'background_music': False, 'no_music': False, 'jukebox': False, 'live': False, 'video': False, 'karaoke': False}        346\n",
       "{'dj': False, 'background_music': False, 'no_music': False, 'jukebox': False, 'live': True, 'video': False, 'karaoke': False}         262\n",
       "{'dj': False}                                                                                                                          44\n",
       "{'dj': False, 'background_music': False, 'no_music': False, 'jukebox': False, 'live': False, 'video': False, 'karaoke': None}          32\n",
       "{u'dj': None, u'live': False, u'jukebox': None, u'video': False, u'background_music': False, u'karaoke': None, u'no_music': False}     30\n",
       "                                                                                                                                     ... \n",
       "{'dj': True, 'background_music': False, 'karaoke': False, 'live': False, 'video': True, 'jukebox': False}                               1\n",
       "{'dj': True, 'background_music': False, 'no_music': False, 'jukebox': True, 'live': True, 'video': True, 'karaoke': True}               1\n",
       "{'dj': True, 'background_music': True, 'jukebox': False, 'live': True, 'video': False, 'karaoke': False}                                1\n",
       "{u'dj': False, u'live': True, u'jukebox': True, u'video': False, u'background_music': False, u'karaoke': None, u'no_music': False}      1\n",
       "{'dj': None, 'background_music': False, 'no_music': False, 'jukebox': None, 'live': False, 'video': False, 'karaoke': True}             1\n",
       "Name: count, Length: 73, dtype: int64"
      ]
     },
     "execution_count": 81,
     "metadata": {},
     "output_type": "execute_result"
    }
   ],
   "source": [
    "business['Music'].value_counts()"
   ]
  },
  {
   "cell_type": "code",
   "execution_count": 82,
   "metadata": {},
   "outputs": [
    {
     "name": "stdout",
     "output_type": "stream",
     "text": [
      "Cantidad de categorías únicas en 'Music': 7\n",
      "Categorías encontradas: {'video', 'live', 'dj', 'karaoke', 'no_music', 'background_music', 'jukebox'}\n"
     ]
    }
   ],
   "source": [
    "# Extraer y listar las categorías únicas\n",
    "music_list = set()\n",
    "\n",
    "for row in business[\"Music\"].dropna():\n",
    "    if isinstance(row, dict):  # Si ya es un diccionario\n",
    "        music_list.update(row.keys())\n",
    "    elif isinstance(row, str):  # Si es un string que representa un diccionario\n",
    "        try:\n",
    "            categories = ast.literal_eval(row)  # Convertir string a dict\n",
    "            if isinstance(categories, dict):\n",
    "                music_list.update(categories.keys())  # Agregar claves únicas\n",
    "        except:\n",
    "            print(f\"Error procesando: {row}\")  # Para depuración\n",
    "\n",
    "print(f\"Cantidad de categorías únicas en 'Music': {len(music_list)}\")\n",
    "print(f\"Categorías encontradas: {music_list}\")"
   ]
  },
  {
   "cell_type": "code",
   "execution_count": 83,
   "metadata": {},
   "outputs": [],
   "source": [
    "# Convertir strings a diccionarios si es necesario\n",
    "business[\"Music\"] = business[\"Music\"].dropna().apply(lambda x: ast.literal_eval(x) if isinstance(x, str) else x)\n",
    "\n",
    "# Crear columnas dummies\n",
    "for category in music_list:\n",
    "    business[f\"Music_{category}\"] = business[\"Music\"].apply(lambda x: 1 if isinstance(x, dict) and x.get(category, False) else 0)\n",
    "\n",
    "# Eliminar la columna original\n",
    "business.drop(columns=[\"Music\"], inplace=True)"
   ]
  },
  {
   "cell_type": "markdown",
   "metadata": {},
   "source": [
    "Analizamos `BYOB`\n"
   ]
  },
  {
   "cell_type": "code",
   "execution_count": 84,
   "metadata": {},
   "outputs": [
    {
     "data": {
      "text/plain": [
       "BYOB\n",
       "False    650\n",
       "True     136\n",
       "Name: count, dtype: int64"
      ]
     },
     "execution_count": 84,
     "metadata": {},
     "output_type": "execute_result"
    }
   ],
   "source": [
    "business['BYOB'].value_counts()"
   ]
  },
  {
   "cell_type": "code",
   "execution_count": 85,
   "metadata": {},
   "outputs": [],
   "source": [
    "business['BYOB'] = business['BYOB'].astype(str).map({'True': 1, 'False': 0, 'None': 0}).fillna(0).astype(int)"
   ]
  },
  {
   "cell_type": "markdown",
   "metadata": {},
   "source": [
    "Analizamos `DogsAllowed`\n"
   ]
  },
  {
   "cell_type": "code",
   "execution_count": 86,
   "metadata": {},
   "outputs": [
    {
     "data": {
      "text/plain": [
       "DogsAllowed\n",
       "False    1586\n",
       "True      863\n",
       "None        3\n",
       "Name: count, dtype: int64"
      ]
     },
     "execution_count": 86,
     "metadata": {},
     "output_type": "execute_result"
    }
   ],
   "source": [
    "business['DogsAllowed'].value_counts()"
   ]
  },
  {
   "cell_type": "code",
   "execution_count": 87,
   "metadata": {},
   "outputs": [],
   "source": [
    "business['DogsAllowed'] = business['DogsAllowed'].astype(str).map({'True': 1, 'False': 0, 'None': 0}).fillna(0).astype(int)"
   ]
  },
  {
   "cell_type": "markdown",
   "metadata": {},
   "source": [
    "Analizamos `DriveThrut`"
   ]
  },
  {
   "cell_type": "code",
   "execution_count": 88,
   "metadata": {},
   "outputs": [
    {
     "data": {
      "text/plain": [
       "DriveThru\n",
       "True     825\n",
       "False    431\n",
       "None     174\n",
       "Name: count, dtype: int64"
      ]
     },
     "execution_count": 88,
     "metadata": {},
     "output_type": "execute_result"
    }
   ],
   "source": [
    "business['DriveThru'].value_counts()"
   ]
  },
  {
   "cell_type": "code",
   "execution_count": 89,
   "metadata": {},
   "outputs": [],
   "source": [
    "business['DriveThru'] = business['DriveThru'].astype(str).map({'True': 1, 'False': 0, 'None': 0}).fillna(0).astype(int)"
   ]
  },
  {
   "cell_type": "markdown",
   "metadata": {},
   "source": [
    "Analizamos `Corkage`"
   ]
  },
  {
   "cell_type": "code",
   "execution_count": 90,
   "metadata": {},
   "outputs": [
    {
     "data": {
      "text/plain": [
       "Corkage\n",
       "False    374\n",
       "True     207\n",
       "None       1\n",
       "Name: count, dtype: int64"
      ]
     },
     "execution_count": 90,
     "metadata": {},
     "output_type": "execute_result"
    }
   ],
   "source": [
    "business['Corkage'].value_counts()"
   ]
  },
  {
   "cell_type": "code",
   "execution_count": 91,
   "metadata": {},
   "outputs": [],
   "source": [
    "business['Corkage'] = business['Corkage'].astype(str).map({'True': 1, 'False': 0, 'None': 0}).fillna(0).astype(int)"
   ]
  },
  {
   "cell_type": "markdown",
   "metadata": {},
   "source": [
    "Analizamos `BYOBCorkage`"
   ]
  },
  {
   "cell_type": "code",
   "execution_count": 92,
   "metadata": {},
   "outputs": [
    {
     "data": {
      "text/plain": [
       "BYOBCorkage\n",
       "'no'             40\n",
       "'yes_free'       34\n",
       "'yes_corkage'     7\n",
       "u'yes_free'       1\n",
       "Name: count, dtype: int64"
      ]
     },
     "execution_count": 92,
     "metadata": {},
     "output_type": "execute_result"
    }
   ],
   "source": [
    "business['BYOBCorkage'].value_counts()"
   ]
  },
  {
   "cell_type": "markdown",
   "metadata": {},
   "source": [
    "> Esta columna tiene muy pocos datos no nulos, de los cuales la mitad son positivos, por lo que se elimina"
   ]
  },
  {
   "cell_type": "markdown",
   "metadata": {},
   "source": [
    "Analizamos `AcceptsInsurance`\n"
   ]
  },
  {
   "cell_type": "code",
   "execution_count": 93,
   "metadata": {},
   "outputs": [
    {
     "data": {
      "text/plain": [
       "AcceptsInsurance\n",
       "False    10\n",
       "True      2\n",
       "Name: count, dtype: int64"
      ]
     },
     "execution_count": 93,
     "metadata": {},
     "output_type": "execute_result"
    }
   ],
   "source": [
    "business['AcceptsInsurance'].value_counts()"
   ]
  },
  {
   "cell_type": "markdown",
   "metadata": {},
   "source": [
    "> Idem columna `BYOBCorkage`"
   ]
  },
  {
   "cell_type": "markdown",
   "metadata": {},
   "source": [
    "Analizamos `AgesAllowed`\n"
   ]
  },
  {
   "cell_type": "code",
   "execution_count": 94,
   "metadata": {},
   "outputs": [
    {
     "data": {
      "text/plain": [
       "AgesAllowed\n",
       "u'allages'    12\n",
       "u'21plus'      1\n",
       "Name: count, dtype: int64"
      ]
     },
     "execution_count": 94,
     "metadata": {},
     "output_type": "execute_result"
    }
   ],
   "source": [
    "business['AgesAllowed'].value_counts()"
   ]
  },
  {
   "cell_type": "markdown",
   "metadata": {},
   "source": [
    "> Idem columna `BYOBCorkage`"
   ]
  },
  {
   "cell_type": "markdown",
   "metadata": {},
   "source": [
    "Eliminamos `HairSpecializesIn`, `Open24Hours`, `DietaryRestrictions`"
   ]
  },
  {
   "cell_type": "code",
   "execution_count": 95,
   "metadata": {},
   "outputs": [],
   "source": [
    "business = business.drop(columns = ['HairSpecializesIn', \n",
    "                                    'Open24Hours', \n",
    "                                    'DietaryRestrictions', \n",
    "                                    'BYOBCorkage', \n",
    "                                    'AcceptsInsurance',\n",
    "                                    'AgesAllowed'])"
   ]
  },
  {
   "cell_type": "code",
   "execution_count": 96,
   "metadata": {},
   "outputs": [
    {
     "name": "stdout",
     "output_type": "stream",
     "text": [
      "<class 'pandas.core.frame.DataFrame'>\n",
      "Index: 10951 entries, 14 to 150297\n",
      "Data columns (total 79 columns):\n",
      " #   Column                      Non-Null Count  Dtype \n",
      "---  ------                      --------------  ----- \n",
      " 0   business_id                 10951 non-null  object\n",
      " 1   name                        10951 non-null  object\n",
      " 2   address                     10951 non-null  object\n",
      " 3   city                        10951 non-null  object\n",
      " 4   state                       10951 non-null  object\n",
      " 5   postal_code                 10951 non-null  object\n",
      " 6   latitude                    10951 non-null  object\n",
      " 7   longitude                   10951 non-null  object\n",
      " 8   stars                       10951 non-null  object\n",
      " 9   review_count                10951 non-null  object\n",
      " 10  is_open                     10951 non-null  object\n",
      " 11  categories                  10951 non-null  object\n",
      " 12  hours                       9593 non-null   object\n",
      " 13  OutdoorSeating              10951 non-null  int64 \n",
      " 14  RestaurantsGoodForGroups    10951 non-null  int64 \n",
      " 15  WiFi                        10951 non-null  int64 \n",
      " 16  RestaurantsPriceRange2      10951 non-null  int64 \n",
      " 17  RestaurantsDelivery         10951 non-null  int64 \n",
      " 18  BusinessAcceptsCreditCards  10951 non-null  int64 \n",
      " 19  RestaurantsTakeOut          10951 non-null  int64 \n",
      " 20  Caters                      10951 non-null  int64 \n",
      " 21  GoodForKids                 10951 non-null  int64 \n",
      " 22  BusinessAcceptsBitcoin      10951 non-null  int64 \n",
      " 23  BikeParking                 10951 non-null  int64 \n",
      " 24  RestaurantsTableService     10951 non-null  int64 \n",
      " 25  RestaurantsReservations     10951 non-null  int64 \n",
      " 26  HasTV                       10951 non-null  int64 \n",
      " 27  WheelchairAccessible        10951 non-null  int64 \n",
      " 28  ByAppointmentOnly           10951 non-null  int64 \n",
      " 29  GoodForDancing              10951 non-null  int64 \n",
      " 30  HappyHour                   10951 non-null  int64 \n",
      " 31  CoatCheck                   10951 non-null  int64 \n",
      " 32  BYOB                        10951 non-null  int64 \n",
      " 33  DogsAllowed                 10951 non-null  int64 \n",
      " 34  DriveThru                   10951 non-null  int64 \n",
      " 35  Corkage                     10951 non-null  int64 \n",
      " 36  RestaurantsAttire_dressy    10951 non-null  int64 \n",
      " 37  RestaurantsAttire_formal    10951 non-null  int64 \n",
      " 38  RestaurantsAttire_casual    10951 non-null  int64 \n",
      " 39  NoiseLevel_quiet            10951 non-null  int64 \n",
      " 40  NoiseLevel_very_loud        10951 non-null  int64 \n",
      " 41  NoiseLevel_average          10951 non-null  int64 \n",
      " 42  NoiseLevel_loud             10951 non-null  int64 \n",
      " 43  Ambience_touristy           10951 non-null  int64 \n",
      " 44  Ambience_intimate           10951 non-null  int64 \n",
      " 45  Ambience_trendy             10951 non-null  int64 \n",
      " 46  Ambience_divey              10951 non-null  int64 \n",
      " 47  Ambience_casual             10951 non-null  int64 \n",
      " 48  Ambience_romantic           10951 non-null  int64 \n",
      " 49  Ambience_classy             10951 non-null  int64 \n",
      " 50  Ambience_hipster            10951 non-null  int64 \n",
      " 51  Ambience_upscale            10951 non-null  int64 \n",
      " 52  BusinessParking_validated   10951 non-null  int64 \n",
      " 53  BusinessParking_garage      10951 non-null  int64 \n",
      " 54  BusinessParking_street      10951 non-null  int64 \n",
      " 55  BusinessParking_valet       10951 non-null  int64 \n",
      " 56  BusinessParking_lot         10951 non-null  int64 \n",
      " 57  alcoholic_beverages         10951 non-null  int64 \n",
      " 58  GoodForMeal_dessert         10951 non-null  int64 \n",
      " 59  GoodForMeal_brunch          10951 non-null  int64 \n",
      " 60  GoodForMeal_lunch           10951 non-null  int64 \n",
      " 61  GoodForMeal_breakfast       10951 non-null  int64 \n",
      " 62  GoodForMeal_latenight       10951 non-null  int64 \n",
      " 63  GoodForMeal_dinner          10951 non-null  int64 \n",
      " 64  BestNights_monday           10951 non-null  int64 \n",
      " 65  BestNights_tuesday          10951 non-null  int64 \n",
      " 66  BestNights_saturday         10951 non-null  int64 \n",
      " 67  BestNights_sunday           10951 non-null  int64 \n",
      " 68  BestNights_friday           10951 non-null  int64 \n",
      " 69  BestNights_thursday         10951 non-null  int64 \n",
      " 70  BestNights_wednesday        10951 non-null  int64 \n",
      " 71  smoking_allowed             10951 non-null  int64 \n",
      " 72  Music_video                 10951 non-null  int64 \n",
      " 73  Music_live                  10951 non-null  int64 \n",
      " 74  Music_dj                    10951 non-null  int64 \n",
      " 75  Music_karaoke               10951 non-null  int64 \n",
      " 76  Music_no_music              10951 non-null  int64 \n",
      " 77  Music_background_music      10951 non-null  int64 \n",
      " 78  Music_jukebox               10951 non-null  int64 \n",
      "dtypes: int64(66), object(13)\n",
      "memory usage: 6.7+ MB\n"
     ]
    }
   ],
   "source": [
    "business.info()"
   ]
  },
  {
   "cell_type": "markdown",
   "metadata": {},
   "source": [
    "Se eliminan las columnas `hours` y `state`, ya que `hours` no se usa y `state` porque filtramos solo por el estado de Florida (FL)"
   ]
  },
  {
   "cell_type": "code",
   "execution_count": 97,
   "metadata": {},
   "outputs": [],
   "source": [
    "business = business.drop(columns = ['hours', 'state'])"
   ]
  },
  {
   "cell_type": "code",
   "execution_count": 98,
   "metadata": {},
   "outputs": [],
   "source": [
    "business.to_csv('business_fl.csv')"
   ]
  }
 ],
 "metadata": {
  "kernelspec": {
   "display_name": "Python 3",
   "language": "python",
   "name": "python3"
  },
  "language_info": {
   "codemirror_mode": {
    "name": "ipython",
    "version": 3
   },
   "file_extension": ".py",
   "mimetype": "text/x-python",
   "name": "python",
   "nbconvert_exporter": "python",
   "pygments_lexer": "ipython3",
   "version": "3.13.1"
  }
 },
 "nbformat": 4,
 "nbformat_minor": 2
}
