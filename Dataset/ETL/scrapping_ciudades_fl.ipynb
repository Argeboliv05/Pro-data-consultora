{
 "cells": [
  {
   "cell_type": "code",
   "execution_count": null,
   "metadata": {},
   "outputs": [
    {
     "name": "stdout",
     "output_type": "stream",
     "text": [
      "  Rank            City Population\n",
      "0    1    Jacksonville    985,843\n",
      "1    2           Miami    455,924\n",
      "2    3           Tampa    403,364\n",
      "3    4         Orlando    320,742\n",
      "4    5  St. Petersburg    263,553\n"
     ]
    }
   ],
   "source": [
    "import requests # type: ignore\n",
    "from bs4 import BeautifulSoup # type: ignore\n",
    "import pandas as pd # type: ignore\n",
    "\n",
    "# URL de la página\n",
    "url = \"https://www.florida-demographics.com/cities_by_population\"\n",
    "\n",
    "# Obtener el contenido de la página\n",
    "response = requests.get(url)\n",
    "soup = BeautifulSoup(response.text, 'html.parser')\n",
    "\n",
    "# Encontrar la tabla que contiene los datos\n",
    "table = soup.find(\"table\")\n",
    "\n",
    "# Extraer los encabezados de la tabla\n",
    "headers = [th.text.strip() for th in table.find_all(\"th\")]\n",
    "\n",
    "# Extraer los datos de la tabla\n",
    "data = []\n",
    "for row in table.find_all(\"tr\")[1:]:  # Omitir la primera fila (encabezados)\n",
    "    cols = [td.text.strip() for td in row.find_all(\"td\")]\n",
    "    if cols:  # Evitar filas vacías\n",
    "        data.append(cols)\n",
    "\n",
    "# Crear un DataFrame con los datos obtenidos\n",
    "df = pd.DataFrame(data, columns=headers)\n",
    "\n",
    "# Mostrar las primeras filas del DataFrame\n",
    "print(df.head())\n",
    "\n",
    "# Guardar en un CSV\n",
    "df.to_csv(\"florida_population.csv\", index=False)\n"
   ]
  }
 ],
 "metadata": {
  "kernelspec": {
   "display_name": "Python 3",
   "language": "python",
   "name": "python3"
  },
  "language_info": {
   "codemirror_mode": {
    "name": "ipython",
    "version": 3
   },
   "file_extension": ".py",
   "mimetype": "text/x-python",
   "name": "python",
   "nbconvert_exporter": "python",
   "pygments_lexer": "ipython3",
   "version": "3.13.1"
  }
 },
 "nbformat": 4,
 "nbformat_minor": 2
}
