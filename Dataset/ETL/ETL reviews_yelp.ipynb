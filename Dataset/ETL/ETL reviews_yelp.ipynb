{
 "cells": [
  {
   "cell_type": "code",
   "execution_count": null,
   "metadata": {},
   "outputs": [],
   "source": [
    "import pandas as pd # type: ignore\n",
    "from scipy.stats import ttest_ind # type: ignore\n",
    "from sklearn.feature_extraction.text import CountVectorizer # type: ignore\n",
    "from vaderSentiment.vaderSentiment import SentimentIntensityAnalyzer # type: ignore\n",
    "from textblob import TextBlob # type: ignore\n",
    "from wordcloud import WordCloud # type: ignore\n",
    "import glob # type: ignore\n",
    "import os # type: ignore\n",
    "import swifter"
   ]
  },
  {
   "cell_type": "code",
   "execution_count": null,
   "metadata": {},
   "outputs": [],
   "source": [
    "reviews_yelp = pd.read_parquet(r'Yelp\\review.parquet')"
   ]
  },
  {
   "cell_type": "code",
   "execution_count": null,
   "metadata": {},
   "outputs": [],
   "source": [
    "business = pd.read_csv('business_fl.csv', usecols= ['business_id'])"
   ]
  },
  {
   "cell_type": "code",
   "execution_count": null,
   "metadata": {},
   "outputs": [],
   "source": [
    "# Filtrar reviews_yelp para que solo contenga las filas con business_id presentes en business_id\n",
    "filtered_reviews_yelp = reviews_yelp[reviews_yelp['business_id'].isin(business['business_id'])]"
   ]
  },
  {
   "cell_type": "code",
   "execution_count": null,
   "metadata": {},
   "outputs": [],
   "source": [
    "reviews_yelp = filtered_reviews_yelp.copy()"
   ]
  },
  {
   "cell_type": "code",
   "execution_count": null,
   "metadata": {},
   "outputs": [],
   "source": [
    "reviews_yelp.info()"
   ]
  },
  {
   "cell_type": "code",
   "execution_count": null,
   "metadata": {},
   "outputs": [],
   "source": [
    "# Extraer el año\n",
    "reviews_yelp['date'] = pd.to_datetime(reviews_yelp['date']).dt.strftime('%Y-%m-%d')\n",
    "reviews_yelp['date'] = pd.to_datetime(reviews_yelp['date'])  # Mantiene datetime sin la hora\n",
    "\n",
    "\n",
    "# Definir el rango de fechas permitido\n",
    "end_date = pd.Timestamp(\"2022-01-19\")\n",
    "start_date = end_date - pd.DateOffset(years=5)  # Calcula la fecha mínima automáticamente\n",
    "\n",
    "# Filtrar solo los registros dentro del rango de los últimos 5 años\n",
    "reviews_yelp = reviews_yelp[(reviews_yelp[\"date\"] >= start_date) & (reviews_yelp[\"date\"] <= end_date)]"
   ]
  },
  {
   "cell_type": "code",
   "execution_count": null,
   "metadata": {},
   "outputs": [],
   "source": [
    "# Eliminar las columnas \"useful\", \"funny\", \"cool\", \"user_id\" porque no es util para los análisis\n",
    "reviews_yelp = reviews_yelp.drop(columns=[\"useful\", \"funny\", \"cool\", \"user_id\"])"
   ]
  },
  {
   "cell_type": "code",
   "execution_count": null,
   "metadata": {},
   "outputs": [],
   "source": [
    "# Definir el tamaño del chunk\n",
    "chunk_size = 50000  # Procesar en bloques de 50000 reviews\n",
    "\n",
    "# Función de análisis de sentimiento\n",
    "def analyze_sentiment(text):\n",
    "    analyzer = SentimentIntensityAnalyzer()\n",
    "    vader_score = analyzer.polarity_scores(text)['compound']\n",
    "    textblob_score = TextBlob(text).sentiment.polarity\n",
    "    return pd.Series([vader_score, textblob_score])\n",
    "\n",
    "# Iterar sobre los datos en chunks\n",
    "for start in range(0, len(reviews_yelp), chunk_size):\n",
    "    end = min(start + chunk_size, len(reviews_yelp))\n",
    "    chunk = reviews_yelp.iloc[start:end].copy()  # Copia para evitar modificaciones en el DataFrame original\n",
    "\n",
    "    # Aplicar análisis de sentimiento con swifter\n",
    "    chunk[['vader_score', 'textblob_score']] = chunk['text'].swifter.apply(lambda x: analyze_sentiment(str(x))).apply(pd.Series)\n",
    "\n",
    "    # 🔹 Guardar cada chunk en un archivo Parquet para no perder datos\n",
    "    chunk.to_parquet(f\"sentiment_chunk_yelp_{start}.parquet\")\n",
    "\n",
    "    print(f\"✅ Procesado y guardado chunk {start}-{end}\")"
   ]
  },
  {
   "cell_type": "code",
   "execution_count": null,
   "metadata": {},
   "outputs": [],
   "source": [
    "# Buscar todos los archivos guardados\n",
    "chunk_files = glob.glob(\"sentiment_chunk_yelp_*.parquet\")\n",
    "\n",
    "# Cargar y combinar todos los chunks\n",
    "reviews_yelp = pd.concat([pd.read_parquet(f) for f in chunk_files], ignore_index=True)\n",
    "\n",
    "# Verificar que todo esté unido\n",
    "print(f\"Dataset final: {reviews_yelp.shape[0]} filas, {reviews_yelp.shape[1]} columnas\")\n"
   ]
  },
  {
   "cell_type": "code",
   "execution_count": null,
   "metadata": {},
   "outputs": [],
   "source": [
    "reviews_yelp['has_text'] = reviews_yelp['text'].notnull().astype(int)"
   ]
  },
  {
   "cell_type": "code",
   "execution_count": null,
   "metadata": {},
   "outputs": [],
   "source": [
    "reviews_yelp = reviews_yelp.drop(columns=['text','review_id'])\n",
    "reviews_yelp = reviews_yelp.rename(columns={'stars': 'rating'})"
   ]
  },
  {
   "cell_type": "code",
   "execution_count": null,
   "metadata": {},
   "outputs": [],
   "source": [
    "# Definir el orden lógico de las columnas\n",
    "column_order = ['business_id', 'rating', 'has_text', 'vader_score', 'textblob_score','date']\n",
    "\n",
    "# Aplicar el orden de columnas asegurando que no haya errores por columnas faltantes\n",
    "reviews_yelp = reviews_yelp[column_order]\n",
    "\n",
    "# Reiniciar el índice después de todas las transformaciones\n",
    "reviews_yelp.reset_index(drop=True, inplace=True)"
   ]
  },
  {
   "cell_type": "code",
   "execution_count": null,
   "metadata": {},
   "outputs": [],
   "source": [
    "reviews_yelp.to_csv('reviews_yelp.csv', index=False)"
   ]
  }
 ],
 "metadata": {
  "kernelspec": {
   "display_name": "Python 3",
   "language": "python",
   "name": "python3"
  },
  "language_info": {
   "codemirror_mode": {
    "name": "ipython",
    "version": 3
   },
   "file_extension": ".py",
   "mimetype": "text/x-python",
   "name": "python",
   "nbconvert_exporter": "python",
   "pygments_lexer": "ipython3",
   "version": "3.13.1"
  }
 },
 "nbformat": 4,
 "nbformat_minor": 2
}
